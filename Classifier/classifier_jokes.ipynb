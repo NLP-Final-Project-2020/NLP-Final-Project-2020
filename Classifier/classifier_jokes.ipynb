{
 "cells": [
  {
   "cell_type": "markdown",
   "metadata": {},
   "source": [
    "### jokes detection with Deep Learning"
   ]
  },
  {
   "cell_type": "code",
   "execution_count": 1,
   "metadata": {},
   "outputs": [
    {
     "name": "stdout",
     "output_type": "stream",
     "text": [
      "/Users/tsung-chin.han/ZDOC/Berkeley/w266/NLP-Final-Project-2020/Classifier\r\n"
     ]
    }
   ],
   "source": [
    "!pwd"
   ]
  },
  {
   "cell_type": "code",
   "execution_count": 2,
   "metadata": {},
   "outputs": [],
   "source": [
    "import pandas as pd\n",
    "import numpy as np\n",
    "\n",
    "import json\n",
    "\n",
    "from matplotlib import pyplot as plt\n",
    "%matplotlib inline\n"
   ]
  },
  {
   "cell_type": "markdown",
   "metadata": {},
   "source": [
    "### load reddit_jokes"
   ]
  },
  {
   "cell_type": "code",
   "execution_count": 3,
   "metadata": {},
   "outputs": [
    {
     "name": "stdout",
     "output_type": "stream",
     "text": [
      "(194553, 4)\n"
     ]
    },
    {
     "data": {
      "text/html": [
       "<div>\n",
       "<style scoped>\n",
       "    .dataframe tbody tr th:only-of-type {\n",
       "        vertical-align: middle;\n",
       "    }\n",
       "\n",
       "    .dataframe tbody tr th {\n",
       "        vertical-align: top;\n",
       "    }\n",
       "\n",
       "    .dataframe thead th {\n",
       "        text-align: right;\n",
       "    }\n",
       "</style>\n",
       "<table border=\"1\" class=\"dataframe\">\n",
       "  <thead>\n",
       "    <tr style=\"text-align: right;\">\n",
       "      <th></th>\n",
       "      <th>body</th>\n",
       "      <th>id</th>\n",
       "      <th>score</th>\n",
       "      <th>title</th>\n",
       "    </tr>\n",
       "  </thead>\n",
       "  <tbody>\n",
       "    <tr>\n",
       "      <th>0</th>\n",
       "      <td>Now I have to say \"Leroy can you please paint ...</td>\n",
       "      <td>5tz52q</td>\n",
       "      <td>1</td>\n",
       "      <td>I hate how you cant even say black paint anymore</td>\n",
       "    </tr>\n",
       "    <tr>\n",
       "      <th>1</th>\n",
       "      <td>Pizza doesn't scream when you put it in the ov...</td>\n",
       "      <td>5tz4dd</td>\n",
       "      <td>0</td>\n",
       "      <td>What's the difference between a Jew in Nazi Ge...</td>\n",
       "    </tr>\n",
       "    <tr>\n",
       "      <th>2</th>\n",
       "      <td>...and being there really helped me learn abou...</td>\n",
       "      <td>5tz319</td>\n",
       "      <td>0</td>\n",
       "      <td>I recently went to America....</td>\n",
       "    </tr>\n",
       "    <tr>\n",
       "      <th>3</th>\n",
       "      <td>A Sunday school teacher is concerned that his ...</td>\n",
       "      <td>5tz2wj</td>\n",
       "      <td>1</td>\n",
       "      <td>Brian raises his hand and says, “He’s in Heaven.”</td>\n",
       "    </tr>\n",
       "    <tr>\n",
       "      <th>4</th>\n",
       "      <td>He got caught trying to sell the two books to ...</td>\n",
       "      <td>5tz1pc</td>\n",
       "      <td>0</td>\n",
       "      <td>You hear about the University book store worke...</td>\n",
       "    </tr>\n",
       "  </tbody>\n",
       "</table>\n",
       "</div>"
      ],
      "text/plain": [
       "                                                body      id  score  \\\n",
       "0  Now I have to say \"Leroy can you please paint ...  5tz52q      1   \n",
       "1  Pizza doesn't scream when you put it in the ov...  5tz4dd      0   \n",
       "2  ...and being there really helped me learn abou...  5tz319      0   \n",
       "3  A Sunday school teacher is concerned that his ...  5tz2wj      1   \n",
       "4  He got caught trying to sell the two books to ...  5tz1pc      0   \n",
       "\n",
       "                                               title  \n",
       "0   I hate how you cant even say black paint anymore  \n",
       "1  What's the difference between a Jew in Nazi Ge...  \n",
       "2                     I recently went to America....  \n",
       "3  Brian raises his hand and says, “He’s in Heaven.”  \n",
       "4  You hear about the University book store worke...  "
      ]
     },
     "execution_count": 3,
     "metadata": {},
     "output_type": "execute_result"
    }
   ],
   "source": [
    "df = pd.read_json('reddit_jokes.json')\n",
    "print(df.shape)\n",
    "df.head()"
   ]
  },
  {
   "cell_type": "code",
   "execution_count": 4,
   "metadata": {},
   "outputs": [
    {
     "data": {
      "text/plain": [
       "(array([1.93449e+05, 6.59000e+02, 2.42000e+02, 1.13000e+02, 4.90000e+01,\n",
       "        2.40000e+01, 1.10000e+01, 3.00000e+00, 1.00000e+00, 2.00000e+00]),\n",
       " array([    0. ,  4852.6,  9705.2, 14557.8, 19410.4, 24263. , 29115.6,\n",
       "        33968.2, 38820.8, 43673.4, 48526. ]),\n",
       " <a list of 10 Patch objects>)"
      ]
     },
     "execution_count": 4,
     "metadata": {},
     "output_type": "execute_result"
    },
    {
     "data": {
      "image/png": "[encoded data removed]",
      "text/plain": [
       "<Figure size 432x288 with 1 Axes>"
      ]
     },
     "metadata": {
      "needs_background": "light"
     },
     "output_type": "display_data"
    }
   ],
   "source": [
    "# orignial distributition\n",
    "plt.hist(df.score)\n"
   ]
  },
  {
   "cell_type": "code",
   "execution_count": 5,
   "metadata": {},
   "outputs": [],
   "source": [
    "# modeling score >= 10 | <10\n",
    "df['is_funny'] = df.score.apply(lambda x: 1 if x >= 10 else 0)\n"
   ]
  },
  {
   "cell_type": "code",
   "execution_count": 6,
   "metadata": {},
   "outputs": [
    {
     "data": {
      "text/plain": [
       "(array([133075.,      0.,      0.,      0.,      0.,      0.,      0.,\n",
       "             0.,      0.,  61478.]),\n",
       " array([0. , 0.1, 0.2, 0.3, 0.4, 0.5, 0.6, 0.7, 0.8, 0.9, 1. ]),\n",
       " <a list of 10 Patch objects>)"
      ]
     },
     "execution_count": 6,
     "metadata": {},
     "output_type": "execute_result"
    },
    {
     "data": {
      "image/png": "[encoded data removed]",
      "text/plain": [
       "<Figure size 432x288 with 1 Axes>"
      ]
     },
     "metadata": {
      "needs_background": "light"
     },
     "output_type": "display_data"
    }
   ],
   "source": [
    "# modeling new binary distribution\n",
    "plt.hist(df.is_funny)\n"
   ]
  },
  {
   "cell_type": "code",
   "execution_count": 7,
   "metadata": {},
   "outputs": [],
   "source": [
    "# target\n",
    "# df['target'] = 'title:' + df.title + \". \" + \"body:\" + df.body\n",
    "df['target'] = df.title + \". \" + df.body\n"
   ]
  },
  {
   "cell_type": "code",
   "execution_count": 8,
   "metadata": {},
   "outputs": [
    {
     "name": "stdout",
     "output_type": "stream",
     "text": [
      "(194553, 2)\n"
     ]
    },
    {
     "data": {
      "text/html": [
       "<div>\n",
       "<style scoped>\n",
       "    .dataframe tbody tr th:only-of-type {\n",
       "        vertical-align: middle;\n",
       "    }\n",
       "\n",
       "    .dataframe tbody tr th {\n",
       "        vertical-align: top;\n",
       "    }\n",
       "\n",
       "    .dataframe thead th {\n",
       "        text-align: right;\n",
       "    }\n",
       "</style>\n",
       "<table border=\"1\" class=\"dataframe\">\n",
       "  <thead>\n",
       "    <tr style=\"text-align: right;\">\n",
       "      <th></th>\n",
       "      <th>target</th>\n",
       "      <th>is_funny</th>\n",
       "    </tr>\n",
       "  </thead>\n",
       "  <tbody>\n",
       "    <tr>\n",
       "      <th>0</th>\n",
       "      <td>I hate how you cant even say black paint anymo...</td>\n",
       "      <td>0</td>\n",
       "    </tr>\n",
       "    <tr>\n",
       "      <th>1</th>\n",
       "      <td>What's the difference between a Jew in Nazi Ge...</td>\n",
       "      <td>0</td>\n",
       "    </tr>\n",
       "    <tr>\n",
       "      <th>2</th>\n",
       "      <td>I recently went to America..... ...and being t...</td>\n",
       "      <td>0</td>\n",
       "    </tr>\n",
       "    <tr>\n",
       "      <th>3</th>\n",
       "      <td>Brian raises his hand and says, “He’s in Heave...</td>\n",
       "      <td>0</td>\n",
       "    </tr>\n",
       "    <tr>\n",
       "      <th>4</th>\n",
       "      <td>You hear about the University book store worke...</td>\n",
       "      <td>0</td>\n",
       "    </tr>\n",
       "  </tbody>\n",
       "</table>\n",
       "</div>"
      ],
      "text/plain": [
       "                                              target  is_funny\n",
       "0  I hate how you cant even say black paint anymo...         0\n",
       "1  What's the difference between a Jew in Nazi Ge...         0\n",
       "2  I recently went to America..... ...and being t...         0\n",
       "3  Brian raises his hand and says, “He’s in Heave...         0\n",
       "4  You hear about the University book store worke...         0"
      ]
     },
     "execution_count": 8,
     "metadata": {},
     "output_type": "execute_result"
    }
   ],
   "source": [
    "# finanl modeling dataset\n",
    "final_modeling = df[['target', 'is_funny']]\n",
    "print(final_modeling.shape)\n",
    "final_modeling.head()\n"
   ]
  },
  {
   "cell_type": "code",
   "execution_count": 9,
   "metadata": {},
   "outputs": [
    {
     "data": {
      "text/plain": [
       "0    133075\n",
       "1     61478\n",
       "Name: is_funny, dtype: int64"
      ]
     },
     "execution_count": 9,
     "metadata": {},
     "output_type": "execute_result"
    }
   ],
   "source": [
    "final_modeling.is_funny.value_counts()"
   ]
  },
  {
   "cell_type": "code",
   "execution_count": null,
   "metadata": {},
   "outputs": [],
   "source": []
  },
  {
   "cell_type": "code",
   "execution_count": 12,
   "metadata": {},
   "outputs": [],
   "source": [
    "# import sys\n",
    "# !{sys.executable} -m pip install tensorflow==1.15.0"
   ]
  },
  {
   "cell_type": "code",
   "execution_count": 10,
   "metadata": {},
   "outputs": [
    {
     "name": "stdout",
     "output_type": "stream",
     "text": [
      "1.15.0\n"
     ]
    }
   ],
   "source": [
    "import tensorflow as tf\n",
    "from tensorflow import keras\n",
    "\n",
    "print(tf.__version__)"
   ]
  },
  {
   "cell_type": "code",
   "execution_count": 11,
   "metadata": {},
   "outputs": [
    {
     "name": "stderr",
     "output_type": "stream",
     "text": [
      "Using TensorFlow backend.\n"
     ]
    }
   ],
   "source": [
    "from keras.preprocessing.text import Tokenizer\n",
    "from keras.preprocessing.sequence import pad_sequences\n",
    "from keras.models import Sequential\n",
    "from keras.layers import Embedding,Flatten,Dense,Dropout,SimpleRNN,LSTM,Conv1D,MaxPooling1D,GlobalMaxPooling1D,GRU\n",
    "from keras.optimizers import RMSprop\n",
    "from keras.optimizers import Adagrad\n",
    "from keras import backend as K\n"
   ]
  },
  {
   "cell_type": "code",
   "execution_count": 12,
   "metadata": {},
   "outputs": [
    {
     "data": {
      "text/plain": [
       "39744"
      ]
     },
     "execution_count": 12,
     "metadata": {},
     "output_type": "execute_result"
    }
   ],
   "source": [
    "max(df.target.apply(lambda x: len(x)))"
   ]
  },
  {
   "cell_type": "markdown",
   "metadata": {},
   "source": [
    "### preprocess data"
   ]
  },
  {
   "cell_type": "code",
   "execution_count": 13,
   "metadata": {},
   "outputs": [],
   "source": [
    "texts = df.target.values"
   ]
  },
  {
   "cell_type": "code",
   "execution_count": 14,
   "metadata": {},
   "outputs": [
    {
     "data": {
      "text/plain": [
       "array([0, 0, 0, ..., 1, 1, 0])"
      ]
     },
     "execution_count": 14,
     "metadata": {},
     "output_type": "execute_result"
    }
   ],
   "source": [
    "df.is_funny.values"
   ]
  },
  {
   "cell_type": "code",
   "execution_count": null,
   "metadata": {},
   "outputs": [],
   "source": []
  },
  {
   "cell_type": "code",
   "execution_count": null,
   "metadata": {},
   "outputs": [],
   "source": []
  },
  {
   "cell_type": "markdown",
   "metadata": {},
   "source": [
    "### (current example )"
   ]
  },
  {
   "cell_type": "code",
   "execution_count": 15,
   "metadata": {},
   "outputs": [
    {
     "name": "stdout",
     "output_type": "stream",
     "text": [
      "Found 98403 unique tokens\n"
     ]
    }
   ],
   "source": [
    "# Tokenizing the data\n",
    "maxlen = 50 # cut off sentences after 50 words\n",
    "max_words = 10000 # only consider top 10000 common words in dataset\n",
    "\n",
    "tokenizer = Tokenizer(num_words=max_words)\n",
    "tokenizer.fit_on_texts(texts)\n",
    "\n",
    "sequences = tokenizer.texts_to_sequences(texts)\n",
    "word_index = tokenizer.word_index\n",
    "\n",
    "print('Found %s unique tokens'%len(word_index))\n"
   ]
  },
  {
   "cell_type": "code",
   "execution_count": 16,
   "metadata": {},
   "outputs": [
    {
     "name": "stdout",
     "output_type": "stream",
     "text": [
      "Shape of data tensor: (194553, 50)\n",
      "Shape of labels tensor: (194553,)\n"
     ]
    }
   ],
   "source": [
    "# padding the sequences\n",
    "data = pad_sequences(sequences, maxlen=maxlen)\n",
    "labels = np.array(df.is_funny.values)\n",
    "\n",
    "print('Shape of data tensor:',data.shape)\n",
    "print('Shape of labels tensor:',labels.shape)\n"
   ]
  },
  {
   "cell_type": "code",
   "execution_count": 17,
   "metadata": {},
   "outputs": [],
   "source": [
    "# shuffle the data\n",
    "indices = np.arange(data.shape[0])\n",
    "np.random.shuffle(indices)\n",
    "data = data[indices]\n",
    "labels = labels[indices]\n"
   ]
  },
  {
   "cell_type": "code",
   "execution_count": null,
   "metadata": {},
   "outputs": [],
   "source": []
  },
  {
   "cell_type": "markdown",
   "metadata": {},
   "source": [
    "### Loading the pre-trained word embeddings\n",
    "(this will be changed to GPT, but for now using glove from the example...)\n"
   ]
  },
  {
   "cell_type": "code",
   "execution_count": 36,
   "metadata": {},
   "outputs": [
    {
     "name": "stdout",
     "output_type": "stream",
     "text": [
      "--2020-03-25 22:21:12--  http://nlp.stanford.edu/data/glove.6B.zip\n",
      "Resolving nlp.stanford.edu (nlp.stanford.edu)... 171.64.67.140\n",
      "Connecting to nlp.stanford.edu (nlp.stanford.edu)|171.64.67.140|:80... connected.\n",
      "HTTP request sent, awaiting response... 302 Found\n",
      "Location: https://nlp.stanford.edu/data/glove.6B.zip [following]\n",
      "--2020-03-25 22:21:12--  https://nlp.stanford.edu/data/glove.6B.zip\n",
      "Connecting to nlp.stanford.edu (nlp.stanford.edu)|171.64.67.140|:443... connected.\n",
      "HTTP request sent, awaiting response... 301 Moved Permanently\n",
      "Location: http://downloads.cs.stanford.edu/nlp/data/glove.6B.zip [following]\n",
      "--2020-03-25 22:21:12--  http://downloads.cs.stanford.edu/nlp/data/glove.6B.zip\n",
      "Resolving downloads.cs.stanford.edu (downloads.cs.stanford.edu)... 171.64.64.22\n",
      "Connecting to downloads.cs.stanford.edu (downloads.cs.stanford.edu)|171.64.64.22|:80... connected.\n",
      "HTTP request sent, awaiting response... 200 OK\n",
      "Length: 862182613 (822M) [application/zip]\n",
      "Saving to: ‘glove.6B.zip’\n",
      "\n",
      "glove.6B.zip        100%[===================>] 822.24M  2.33MB/s    in 9m 58s  \n",
      "\n",
      "2020-03-25 22:31:11 (1.37 MB/s) - ‘glove.6B.zip’ saved [862182613/862182613]\n",
      "\n"
     ]
    }
   ],
   "source": [
    "# we would use standford's GloVe pre-trained word embeddings\n",
    "\n",
    "# download the GloVe word embeddings\n",
    "!wget http://nlp.stanford.edu/data/glove.6B.zip\n"
   ]
  },
  {
   "cell_type": "code",
   "execution_count": 38,
   "metadata": {},
   "outputs": [
    {
     "name": "stdout",
     "output_type": "stream",
     "text": [
      "Archive:  glove.6B.zip\n",
      "  inflating: glove.6B.50d.txt        \n",
      "  inflating: glove.6B.100d.txt       \n",
      "  inflating: glove.6B.200d.txt       \n",
      "  inflating: glove.6B.300d.txt       \n"
     ]
    }
   ],
   "source": [
    "!unzip glove.6B.zip\n"
   ]
  },
  {
   "cell_type": "code",
   "execution_count": 18,
   "metadata": {},
   "outputs": [
    {
     "name": "stdout",
     "output_type": "stream",
     "text": [
      "Found 400000 word vectors:\n"
     ]
    }
   ],
   "source": [
    "# parsing the GloVe word-embeddings file\n",
    "embeddings_index = {}\n",
    "\n",
    "f = open('glove.6B.300d.txt')\n",
    "for line in f:\n",
    "    values = line.split()\n",
    "    word = values[0]\n",
    "    coefs = np.asarray(values[1:], dtype='float32')\n",
    "    embeddings_index[word] = coefs\n",
    "f.close()\n",
    "\n",
    "print('Found %s word vectors:'%len(embeddings_index))\n",
    "\n"
   ]
  },
  {
   "cell_type": "code",
   "execution_count": 19,
   "metadata": {},
   "outputs": [],
   "source": [
    "# preparing glove word embeddings matrix\n",
    "embedding_dim = 300\n",
    "\n",
    "embedding_matrix = np.zeros((max_words, embedding_dim))\n",
    "for word, i in word_index.items():\n",
    "    if i < max_words:\n",
    "        embedding_vector = embeddings_index.get(word)\n",
    "        if embedding_vector is not None:\n",
    "            embedding_matrix[i] = embedding_vector \n",
    "            # for words not in embedding index values will be zeros\n",
    "\n"
   ]
  },
  {
   "cell_type": "code",
   "execution_count": 22,
   "metadata": {},
   "outputs": [
    {
     "data": {
      "text/plain": [
       "(10000, 300)"
      ]
     },
     "execution_count": 22,
     "metadata": {},
     "output_type": "execute_result"
    }
   ],
   "source": [
    "embedding_matrix.shape"
   ]
  },
  {
   "cell_type": "code",
   "execution_count": null,
   "metadata": {},
   "outputs": [],
   "source": []
  },
  {
   "cell_type": "code",
   "execution_count": null,
   "metadata": {},
   "outputs": [],
   "source": []
  },
  {
   "cell_type": "code",
   "execution_count": 23,
   "metadata": {},
   "outputs": [],
   "source": [
    "# helper function to plot the results\n",
    "def plot_result(history):\n",
    "    acc = history.history['acc']\n",
    "    val_acc = history.history['val_acc']\n",
    "    loss = history.history['loss']\n",
    "    val_loss = history.history['val_loss']\n",
    "    f1 = history.history['f1']\n",
    "    val_f1 = history.history['val_f1']\n",
    "  \n",
    "    epochs = range(1, len(acc)+1)\n",
    "    \n",
    "    \n",
    "    plt.plot(epochs, acc, label='Training acc')\n",
    "    plt.plot(epochs, val_acc, label='Validation acc')\n",
    "    plt.title('Training and validation accuracy')\n",
    "    plt.xlabel('epochs')\n",
    "    plt.ylabel('acc')\n",
    "    plt.legend()\n",
    "\n",
    "    plt.figure()\n",
    "\n",
    "    plt.plot(epochs, loss, label='Training loss')\n",
    "    plt.plot(epochs, val_loss, label='Validation loss')\n",
    "    plt.title('Training and validation loss')\n",
    "    plt.xlabel('epochs')\n",
    "    plt.ylabel('loss')\n",
    "    plt.legend()\n",
    "\n",
    "    plt.figure()\n",
    "\n",
    "    plt.plot(epochs, f1, label='Training f-measure')\n",
    "    plt.plot(epochs, val_f1, label='Validation f-measure')\n",
    "    plt.title('Training and validation f-measure')\n",
    "    plt.xlabel('epochs')\n",
    "    plt.ylabel('f1')\n",
    "    plt.legend()\n",
    "\n",
    "    plt.show()\n",
    "    "
   ]
  },
  {
   "cell_type": "markdown",
   "metadata": {},
   "source": [
    "### 1 - feed-forward network with dense layers on top of embedding layer"
   ]
  },
  {
   "cell_type": "code",
   "execution_count": 24,
   "metadata": {},
   "outputs": [
    {
     "name": "stderr",
     "output_type": "stream",
     "text": [
      "WARNING: Logging before flag parsing goes to stderr.\n",
      "W0330 02:09:22.496881 4601718208 module_wrapper.py:139] From /usr/local/lib/python3.7/site-packages/keras/backend/tensorflow_backend.py:74: The name tf.get_default_graph is deprecated. Please use tf.compat.v1.get_default_graph instead.\n",
      "\n",
      "W0330 02:09:22.499687 4601718208 module_wrapper.py:139] From /usr/local/lib/python3.7/site-packages/keras/backend/tensorflow_backend.py:517: The name tf.placeholder is deprecated. Please use tf.compat.v1.placeholder instead.\n",
      "\n",
      "W0330 02:09:22.502180 4601718208 module_wrapper.py:139] From /usr/local/lib/python3.7/site-packages/keras/backend/tensorflow_backend.py:4138: The name tf.random_uniform is deprecated. Please use tf.random.uniform instead.\n",
      "\n",
      "W0330 02:09:22.541630 4601718208 module_wrapper.py:139] From /usr/local/lib/python3.7/site-packages/keras/backend/tensorflow_backend.py:133: The name tf.placeholder_with_default is deprecated. Please use tf.compat.v1.placeholder_with_default instead.\n",
      "\n",
      "W0330 02:09:22.549224 4601718208 deprecation.py:506] From /usr/local/lib/python3.7/site-packages/keras/backend/tensorflow_backend.py:3445: calling dropout (from tensorflow.python.ops.nn_ops) with keep_prob is deprecated and will be removed in a future version.\n",
      "Instructions for updating:\n",
      "Please use `rate` instead of `keep_prob`. Rate should be set to `rate = 1 - keep_prob`.\n"
     ]
    },
    {
     "name": "stdout",
     "output_type": "stream",
     "text": [
      "_________________________________________________________________\n",
      "Layer (type)                 Output Shape              Param #   \n",
      "=================================================================\n",
      "embedding_1 (Embedding)      (None, 50, 300)           3000000   \n",
      "_________________________________________________________________\n",
      "flatten_1 (Flatten)          (None, 15000)             0         \n",
      "_________________________________________________________________\n",
      "dense_1 (Dense)              (None, 64)                960064    \n",
      "_________________________________________________________________\n",
      "dropout_1 (Dropout)          (None, 64)                0         \n",
      "_________________________________________________________________\n",
      "dense_2 (Dense)              (None, 1)                 65        \n",
      "=================================================================\n",
      "Total params: 3,960,129\n",
      "Trainable params: 3,960,129\n",
      "Non-trainable params: 0\n",
      "_________________________________________________________________\n"
     ]
    }
   ],
   "source": [
    "model = Sequential()\n",
    "model.add(Embedding(max_words, embedding_dim, input_length=maxlen))\n",
    "model.add(Flatten())\n",
    "\n",
    "model.add(Dense(64, activation='relu'))\n",
    "model.add(Dropout(0.3)) # adding regularization\n",
    "\n",
    "model.add(Dense(1, activation='sigmoid'))\n",
    "model.summary()\n"
   ]
  },
  {
   "cell_type": "code",
   "execution_count": 25,
   "metadata": {},
   "outputs": [
    {
     "name": "stderr",
     "output_type": "stream",
     "text": [
      "W0330 02:09:25.191024 4601718208 module_wrapper.py:139] From /usr/local/lib/python3.7/site-packages/keras/backend/tensorflow_backend.py:174: The name tf.get_default_session is deprecated. Please use tf.compat.v1.get_default_session instead.\n",
      "\n",
      "W0330 02:09:25.192096 4601718208 module_wrapper.py:139] From /usr/local/lib/python3.7/site-packages/keras/backend/tensorflow_backend.py:181: The name tf.ConfigProto is deprecated. Please use tf.compat.v1.ConfigProto instead.\n",
      "\n",
      "W0330 02:09:25.192814 4601718208 module_wrapper.py:139] From /usr/local/lib/python3.7/site-packages/keras/backend/tensorflow_backend.py:186: The name tf.Session is deprecated. Please use tf.compat.v1.Session instead.\n",
      "\n",
      "W0330 02:09:25.218106 4601718208 module_wrapper.py:139] From /usr/local/lib/python3.7/site-packages/keras/backend/tensorflow_backend.py:190: The name tf.global_variables is deprecated. Please use tf.compat.v1.global_variables instead.\n",
      "\n",
      "W0330 02:09:25.219052 4601718208 module_wrapper.py:139] From /usr/local/lib/python3.7/site-packages/keras/backend/tensorflow_backend.py:199: The name tf.is_variable_initialized is deprecated. Please use tf.compat.v1.is_variable_initialized instead.\n",
      "\n",
      "W0330 02:09:25.242003 4601718208 module_wrapper.py:139] From /usr/local/lib/python3.7/site-packages/keras/backend/tensorflow_backend.py:206: The name tf.variables_initializer is deprecated. Please use tf.compat.v1.variables_initializer instead.\n",
      "\n"
     ]
    }
   ],
   "source": [
    "# load pre-trained word embeddings into the embedding layer and freeze it\n",
    "model.layers[0].set_weights([embedding_matrix])\n",
    "model.layers[0].trainable = False"
   ]
  },
  {
   "cell_type": "code",
   "execution_count": 26,
   "metadata": {},
   "outputs": [],
   "source": [
    "# compute f-measure as custom metric\n",
    "def f1(y_true, y_pred):\n",
    "    def recall(y_true, y_pred):\n",
    "        \"\"\"Recall metric.\n",
    "\n",
    "        Only computes a batch-wise average of recall.\n",
    "\n",
    "        Computes the recall, a metric for multi-label classification of\n",
    "        how many relevant items are selected.\n",
    "        \"\"\"\n",
    "        true_positives = K.sum(K.round(K.clip(y_true * y_pred, 0, 1)))\n",
    "        possible_positives = K.sum(K.round(K.clip(y_true, 0, 1)))\n",
    "        recall = true_positives / (possible_positives + K.epsilon())\n",
    "        return recall\n",
    "\n",
    "    def precision(y_true, y_pred):\n",
    "        \"\"\"Precision metric.\n",
    "\n",
    "        Only computes a batch-wise average of precision.\n",
    "\n",
    "        Computes the precision, a metric for multi-label classification of\n",
    "        how many selected items are relevant.\n",
    "        \"\"\"\n",
    "        true_positives = K.sum(K.round(K.clip(y_true * y_pred, 0, 1)))\n",
    "        predicted_positives = K.sum(K.round(K.clip(y_pred, 0, 1)))\n",
    "        precision = true_positives / (predicted_positives + K.epsilon())\n",
    "        return precision\n",
    "    precision = precision(y_true, y_pred)\n",
    "    recall = recall(y_true, y_pred)\n",
    "    return 2*((precision*recall)/(precision+recall+K.epsilon()))\n"
   ]
  },
  {
   "cell_type": "code",
   "execution_count": 29,
   "metadata": {},
   "outputs": [
    {
     "name": "stdout",
     "output_type": "stream",
     "text": [
      "Train on 136187 samples, validate on 58366 samples\n",
      "Epoch 1/20\n",
      "136187/136187 [==============================] - 54s 397us/step - loss: 0.5425 - acc: 0.7325 - f1: 0.3565 - val_loss: 0.6083 - val_acc: 0.6907 - val_f1: 0.2697\n",
      "Epoch 2/20\n",
      "136187/136187 [==============================] - 54s 397us/step - loss: 0.5175 - acc: 0.7493 - f1: 0.4112 - val_loss: 0.6189 - val_acc: 0.6884 - val_f1: 0.2871\n",
      "Epoch 3/20\n",
      "136187/136187 [==============================] - 58s 426us/step - loss: 0.4902 - acc: 0.7652 - f1: 0.4622 - val_loss: 0.6332 - val_acc: 0.6881 - val_f1: 0.2891\n",
      "Epoch 4/20\n",
      "136187/136187 [==============================] - 57s 421us/step - loss: 0.4648 - acc: 0.7810 - f1: 0.5140 - val_loss: 0.6476 - val_acc: 0.6872 - val_f1: 0.2948\n",
      "Epoch 5/20\n",
      "136187/136187 [==============================] - 58s 423us/step - loss: 0.4387 - acc: 0.7949 - f1: 0.5596 - val_loss: 0.6695 - val_acc: 0.6841 - val_f1: 0.3179\n",
      "Epoch 6/20\n",
      "136187/136187 [==============================] - 57s 417us/step - loss: 0.4175 - acc: 0.8085 - f1: 0.6006 - val_loss: 0.6838 - val_acc: 0.6840 - val_f1: 0.3205\n",
      "Epoch 7/20\n",
      "136187/136187 [==============================] - 55s 406us/step - loss: 0.3947 - acc: 0.8208 - f1: 0.6360 - val_loss: 0.7071 - val_acc: 0.6787 - val_f1: 0.3512\n",
      "Epoch 8/20\n",
      "136187/136187 [==============================] - 54s 398us/step - loss: 0.3757 - acc: 0.8316 - f1: 0.6638 - val_loss: 0.7340 - val_acc: 0.6774 - val_f1: 0.3450\n",
      "Epoch 9/20\n",
      "136187/136187 [==============================] - 55s 401us/step - loss: 0.3591 - acc: 0.8410 - f1: 0.6891 - val_loss: 0.7817 - val_acc: 0.6828 - val_f1: 0.3155\n",
      "Epoch 10/20\n",
      "136187/136187 [==============================] - 55s 407us/step - loss: 0.3447 - acc: 0.8481 - f1: 0.7083 - val_loss: 0.8030 - val_acc: 0.6831 - val_f1: 0.3016\n",
      "Epoch 11/20\n",
      "136187/136187 [==============================] - 72s 531us/step - loss: 0.3301 - acc: 0.8567 - f1: 0.7282 - val_loss: 0.8076 - val_acc: 0.6749 - val_f1: 0.3599\n",
      "Epoch 12/20\n",
      "136187/136187 [==============================] - 63s 464us/step - loss: 0.3172 - acc: 0.8633 - f1: 0.7457 - val_loss: 0.8415 - val_acc: 0.6705 - val_f1: 0.3632\n",
      "Epoch 13/20\n",
      "136187/136187 [==============================] - 54s 400us/step - loss: 0.3055 - acc: 0.8694 - f1: 0.7573 - val_loss: 0.8727 - val_acc: 0.6758 - val_f1: 0.3409\n",
      "Epoch 14/20\n",
      "136187/136187 [==============================] - 54s 398us/step - loss: 0.2929 - acc: 0.8754 - f1: 0.7717 - val_loss: 0.8841 - val_acc: 0.6722 - val_f1: 0.3582\n",
      "Epoch 15/20\n",
      "136187/136187 [==============================] - 55s 401us/step - loss: 0.2841 - acc: 0.8805 - f1: 0.7832 - val_loss: 0.9352 - val_acc: 0.6670 - val_f1: 0.3863\n",
      "Epoch 16/20\n",
      "136187/136187 [==============================] - 56s 408us/step - loss: 0.2747 - acc: 0.8848 - f1: 0.7922 - val_loss: 0.9514 - val_acc: 0.6679 - val_f1: 0.3786\n",
      "Epoch 17/20\n",
      "136187/136187 [==============================] - 56s 413us/step - loss: 0.2664 - acc: 0.8892 - f1: 0.8017 - val_loss: 0.9652 - val_acc: 0.6633 - val_f1: 0.3833\n",
      "Epoch 18/20\n",
      "136187/136187 [==============================] - 56s 414us/step - loss: 0.2576 - acc: 0.8942 - f1: 0.8116 - val_loss: 1.0193 - val_acc: 0.6661 - val_f1: 0.3805\n",
      "Epoch 19/20\n",
      "136187/136187 [==============================] - 64s 471us/step - loss: 0.2508 - acc: 0.8976 - f1: 0.8190 - val_loss: 1.0135 - val_acc: 0.6643 - val_f1: 0.3822\n",
      "Epoch 20/20\n",
      "136187/136187 [==============================] - 57s 416us/step - loss: 0.2441 - acc: 0.9007 - f1: 0.8250 - val_loss: 1.0567 - val_acc: 0.6645 - val_f1: 0.3685\n"
     ]
    }
   ],
   "source": [
    "# train the model\n",
    "model.compile(optimizer=RMSprop(lr=1e-4), loss='binary_crossentropy', metrics = ['acc', f1])\n",
    "history = model.fit(data, labels, epochs=20, batch_size=32, validation_split=0.3)\n",
    "\n",
    "\n",
    "# model.compile(optimizer=Adagrad(lr=0.1), loss='binary_crossentropy', metrics = ['acc', f1])\n",
    "# history = model.fit(data, labels, epochs=3, batch_size=32, validation_split=0.3)\n",
    "\n"
   ]
  },
  {
   "cell_type": "code",
   "execution_count": 30,
   "metadata": {},
   "outputs": [
    {
     "data": {
      "image/png": "[encoded data removed]",
      "text/plain": [
       "<Figure size 432x288 with 1 Axes>"
      ]
     },
     "metadata": {
      "needs_background": "light"
     },
     "output_type": "display_data"
    },
    {
     "data": {
      "image/png": "[encoded data removed]",
      "text/plain": [
       "<Figure size 432x288 with 1 Axes>"
      ]
     },
     "metadata": {
      "needs_background": "light"
     },
     "output_type": "display_data"
    },
    {
     "data": {
      "image/png": "[encoded data removed]",
      "text/plain": [
       "<Figure size 432x288 with 1 Axes>"
      ]
     },
     "metadata": {
      "needs_background": "light"
     },
     "output_type": "display_data"
    }
   ],
   "source": [
    "# plotting the results\n",
    "plot_result(history)\n"
   ]
  },
  {
   "cell_type": "code",
   "execution_count": null,
   "metadata": {},
   "outputs": [],
   "source": [
    "### roc \n",
    "\n"
   ]
  },
  {
   "cell_type": "code",
   "execution_count": null,
   "metadata": {},
   "outputs": [],
   "source": []
  },
  {
   "cell_type": "code",
   "execution_count": 198,
   "metadata": {},
   "outputs": [],
   "source": [
    "# # save model\n",
    "# model.save('model.h5')\n"
   ]
  },
  {
   "cell_type": "code",
   "execution_count": 196,
   "metadata": {},
   "outputs": [],
   "source": [
    "# from keras.models import load_model"
   ]
  },
  {
   "cell_type": "code",
   "execution_count": 199,
   "metadata": {},
   "outputs": [],
   "source": [
    "# model = load_model('model.h5')"
   ]
  },
  {
   "cell_type": "code",
   "execution_count": null,
   "metadata": {},
   "outputs": [],
   "source": []
  },
  {
   "cell_type": "markdown",
   "metadata": {},
   "source": [
    "### prediction"
   ]
  },
  {
   "cell_type": "code",
   "execution_count": 193,
   "metadata": {},
   "outputs": [
    {
     "name": "stdout",
     "output_type": "stream",
     "text": [
      "_________________________________________________________________\n",
      "Layer (type)                 Output Shape              Param #   \n",
      "=================================================================\n",
      "embedding_1 (Embedding)      (None, 50, 300)           3000000   \n",
      "_________________________________________________________________\n",
      "flatten_1 (Flatten)          (None, 15000)             0         \n",
      "_________________________________________________________________\n",
      "dense_1 (Dense)              (None, 64)                960064    \n",
      "_________________________________________________________________\n",
      "dropout_1 (Dropout)          (None, 64)                0         \n",
      "_________________________________________________________________\n",
      "dense_2 (Dense)              (None, 1)                 65        \n",
      "=================================================================\n",
      "Total params: 3,960,129\n",
      "Trainable params: 960,129\n",
      "Non-trainable params: 3,000,000\n",
      "_________________________________________________________________\n"
     ]
    }
   ],
   "source": [
    "model.summary()"
   ]
  },
  {
   "cell_type": "code",
   "execution_count": null,
   "metadata": {},
   "outputs": [],
   "source": []
  },
  {
   "cell_type": "code",
   "execution_count": 904,
   "metadata": {},
   "outputs": [],
   "source": [
    "import requests\n",
    "import collections\n"
   ]
  },
  {
   "cell_type": "code",
   "execution_count": 941,
   "metadata": {},
   "outputs": [],
   "source": [
    "### helper function to make a post request\n",
    "\n",
    "def request_jokes(url=url, question=question):\n",
    "    \n",
    "    while True:\n",
    "        data = {'joke_title': question}\n",
    "        r = requests.post(url=url, data=data)\n",
    "        ans = [r.text]\n",
    "        print(\"try 1-\"+ans[0])\n",
    "        if ans[0]==\"Failed\" or set(ans[0].split())==set(question.split()):\n",
    "            r = requests.post(url=url, data=data)\n",
    "            ans = [r.text]\n",
    "            print(\"try 2-\"+ans[0])\n",
    "        else:\n",
    "            return ans\n",
    "\n",
    "### helper        \n",
    "def request_prediction(model=model, question=question):\n",
    "    \n",
    "    out = []\n",
    "    for i in range(len(question)):\n",
    "        \n",
    "        # data to be sent to api \n",
    "        ans = request_jokes(question=question[i])\n",
    "\n",
    "        ###\n",
    "        tokenizer.fit_on_texts(ans)\n",
    "        token_seq = tokenizer.texts_to_sequences(ans) # text to seq\n",
    "        token_seq_pad = pad_sequences(token_seq, maxlen=maxlen) # pad seq\n",
    "\n",
    "        # process answer - after body\n",
    "        if ans[0].partition(question[i])[-1][0:8] == '\\n body: ':\n",
    "            ans_jokes = ans[0].partition(question[i])[-1].partition('body: ')[-1]\n",
    "        else:\n",
    "            ans_jokes = ans[0].partition(question[i])[-1]\n",
    "\n",
    "        # concatenate contents with title + body\n",
    "        content = question[i] + \" \" + ans_jokes\n",
    "\n",
    "        print(str([i])+\"- jokes \"+str(i+1)+\": \"+ content)\n",
    "\n",
    "        # prepare results\n",
    "        result = content, model.predict_classes(token_seq_pad)[0][0], model.predict_proba(token_seq_pad)[0][0]\n",
    "        out.append(result)\n",
    "\n",
    "    prediction_result = pd.DataFrame(out, columns=['jokes', 'is_funny', 'proba'])\n",
    "    return prediction_result\n",
    "\n"
   ]
  },
  {
   "cell_type": "code",
   "execution_count": 944,
   "metadata": {},
   "outputs": [],
   "source": [
    "question = [\"\"\"Why is it so hard to break up with a Japanese Girl? \"\"\",\n",
    "            \"\"\"Why did the chicken cross the road? \"\"\",\n",
    "            \"\"\"Why did the producers of 007 films use government debt to fund their newest film? \"\"\",\n",
    "            \"\"\"I feel so bad for the necrophiliac's sister. \"\"\",\n",
    "            \"\"\"What's the difference between you and a Calendar? \"\"\",\n",
    "            \"\"\"This guy proposed to his wife after walking away from a terrible car accident without a scratch. He said \"Life's too short and it can end at any time.\" \"\"\",\n",
    "            \"\"\"Roses are red. \"\"\",\n",
    "            \"\"\"These reports of a major snowstorm hitting the Northeast don't concern me. \"\"\",\n",
    "            \"\"\"Those ads actually ran. \"\"\",\n",
    "            \"\"\"Burnt my Hawaiian pizza today. \"\"\"\n",
    "           ]\n"
   ]
  },
  {
   "cell_type": "code",
   "execution_count": 945,
   "metadata": {},
   "outputs": [
    {
     "name": "stdout",
     "output_type": "stream",
     "text": [
      "try 1-Why is it so hard to break up with a Japanese Girl? \n",
      "\n",
      "You don't have to explain that to me for two reasons:\n",
      "\n",
      "1. You're a Japanese man and have never been with a Japanese Girl. \n",
      "2. You don't have to explain anymore. \n",
      "\n",
      "*Edit: Thanks so much for the feedback and to all the readers for sharing!\n",
      "[0]- jokes 1: Why is it so hard to break up with a Japanese Girl?  \n",
      "\n",
      "You don't have to explain that to me for two reasons:\n",
      "\n",
      "1. You're a Japanese man and have never been with a Japanese Girl. \n",
      "2. You don't have to explain anymore. \n",
      "\n",
      "*Edit: Thanks so much for the feedback and to all the readers for sharing!\n",
      "try 1-Why did the chicken cross the road? \n",
      "\n",
      "She said, \"You know, if I'd had a dick I would've come right in here and fucked her.\"\n",
      "[1]- jokes 2: Why did the chicken cross the road?  \n",
      "\n",
      "She said, \"You know, if I'd had a dick I would've come right in here and fucked her.\"\n",
      "try 1-Why did the producers of 007 films use government debt to fund their newest film?  \n",
      "\n",
      "The answer is in the title: \n",
      "\n",
      "\"Saving Private Ryan\" \n",
      "\n",
      "Source: \n",
      "\n",
      "http://www.theguardians.com/film/2009/aug/18/scott-spann-scotland-fans-japan-japan-japan-s-budget\n",
      "[2]- jokes 3: Why did the producers of 007 films use government debt to fund their newest film?   \n",
      "\n",
      "The answer is in the title: \n",
      "\n",
      "\"Saving Private Ryan\" \n",
      "\n",
      "Source: \n",
      "\n",
      "http://www.theguardians.com/film/2009/aug/18/scott-spann-scotland-fans-japan-japan-japan-s-budget\n",
      "try 1-I feel so bad for the necrophiliac's sister.  If only the necrophiliac had stayed in the city, she would have been in heaven.\"\n",
      "\n",
      "\"I hope this gets to you, baby.\"\n",
      "[3]- jokes 4: I feel so bad for the necrophiliac's sister.   If only the necrophiliac had stayed in the city, she would have been in heaven.\"\n",
      "\n",
      "\"I hope this gets to you, baby.\"\n",
      "try 1-What's the difference between you and a Calendar? \n",
      "\n",
      "The Calendar will give you a smile. \n",
      "\n",
      "-You have a smile, too? \n",
      "\n",
      "-The joke is on you.\n",
      "[4]- jokes 5: What's the difference between you and a Calendar?  \n",
      "\n",
      "The Calendar will give you a smile. \n",
      "\n",
      "-You have a smile, too? \n",
      "\n",
      "-The joke is on you.\n",
      "try 1-Failed\n",
      "try 2-Failed\n",
      "try 1-Failed\n",
      "try 2-Failed\n",
      "try 1-Failed\n",
      "try 2-Failed\n",
      "try 1-Failed\n",
      "try 2-Failed\n",
      "try 1-This guy proposed to his wife after walking away from a terrible car accident without a scratch. He said \"Life's too short and it can end at any time.\"  \n",
      "\n",
      "The wife thought for a few seconds and came back with a few words of wisdom. She said “I believe I have a cure to all of your problems. I offer you two wishes. One, never to be cheated on again. Two, never to meet a rich woman. Now, go ahead and walk around. Feel free to take a photo with no makeup on.\n",
      "[5]- jokes 6: This guy proposed to his wife after walking away from a terrible car accident without a scratch. He said \"Life's too short and it can end at any time.\"   \n",
      "\n",
      "The wife thought for a few seconds and came back with a few words of wisdom. She said “I believe I have a cure to all of your problems. I offer you two wishes. One, never to be cheated on again. Two, never to meet a rich woman. Now, go ahead and walk around. Feel free to take a photo with no makeup on.\n",
      "try 1-Roses are red. \n",
      "\n",
      "The sky is blue.\n",
      "\n",
      "Pigs make music. \n",
      "\n",
      "Vines are alive. \n",
      "\n",
      "Horses pull trunks. \n",
      "\n",
      "The earth is flat. \n",
      "\n",
      "There isn't an island. \n",
      "\n",
      "All of this is the truth.\n",
      "\n",
      "You can't believe it. \n",
      "\n",
      "But if you're willing to try then you will believe the rest of this guide.\n",
      "[6]- jokes 7: Roses are red.  \n",
      "\n",
      "The sky is blue.\n",
      "\n",
      "Pigs make music. \n",
      "\n",
      "Vines are alive. \n",
      "\n",
      "Horses pull trunks. \n",
      "\n",
      "The earth is flat. \n",
      "\n",
      "There isn't an island. \n",
      "\n",
      "All of this is the truth.\n",
      "\n",
      "You can't believe it. \n",
      "\n",
      "But if you're willing to try then you will believe the rest of this guide.\n",
      "try 1-These reports of a major snowstorm hitting the Northeast don't concern me.  The biggest concern is a cold front bearing down on New England and other areas of the country this weekend.\n",
      "[7]- jokes 8: These reports of a major snowstorm hitting the Northeast don't concern me.   The biggest concern is a cold front bearing down on New England and other areas of the country this weekend.\n",
      "try 1-Those ads actually ran.\n",
      "try 2-Failed\n",
      "try 1-Those ads actually ran. \n",
      "\n",
      "I don't even have to tell you this.\n",
      "\n",
      "But I still have to tell you this, and I can't put it in words.\n",
      "\n",
      "They said, \"You're a whore.\"\n",
      "\n",
      "I said, \"I'm not. I'm a stripper.\"\n",
      "[8]- jokes 9: Those ads actually ran.  \n",
      "\n",
      "I don't even have to tell you this.\n",
      "\n",
      "But I still have to tell you this, and I can't put it in words.\n",
      "\n",
      "They said, \"You're a whore.\"\n",
      "\n",
      "I said, \"I'm not. I'm a stripper.\"\n",
      "try 1-Burnt my Hawaiian pizza today.\n",
      "try 2-Burnt my Hawaiian pizza today.  I mean, it was good! But it was burnt.\n",
      "try 1-Failed\n",
      "try 2-Burnt my Hawaiian pizza today.\n",
      "try 1-Burnt my Hawaiian pizza today.  They were great!\"\n",
      "[9]- jokes 10: Burnt my Hawaiian pizza today.   They were great!\"\n"
     ]
    }
   ],
   "source": [
    "# flask server and the question list setup\n",
    "url = \"http://127.0.0.1:5000/generate\"\n",
    "\n",
    "# predictions\n",
    "prediction_result = request_prediction(model, question)\n",
    "\n"
   ]
  },
  {
   "cell_type": "code",
   "execution_count": 946,
   "metadata": {},
   "outputs": [
    {
     "data": {
      "text/html": [
       "<div>\n",
       "<style scoped>\n",
       "    .dataframe tbody tr th:only-of-type {\n",
       "        vertical-align: middle;\n",
       "    }\n",
       "\n",
       "    .dataframe tbody tr th {\n",
       "        vertical-align: top;\n",
       "    }\n",
       "\n",
       "    .dataframe thead th {\n",
       "        text-align: right;\n",
       "    }\n",
       "</style>\n",
       "<table border=\"1\" class=\"dataframe\">\n",
       "  <thead>\n",
       "    <tr style=\"text-align: right;\">\n",
       "      <th></th>\n",
       "      <th>jokes</th>\n",
       "      <th>is_funny</th>\n",
       "      <th>proba</th>\n",
       "    </tr>\n",
       "  </thead>\n",
       "  <tbody>\n",
       "    <tr>\n",
       "      <th>0</th>\n",
       "      <td>Why is it so hard to break up with a Japanese ...</td>\n",
       "      <td>0</td>\n",
       "      <td>0.051966</td>\n",
       "    </tr>\n",
       "    <tr>\n",
       "      <th>1</th>\n",
       "      <td>Why did the chicken cross the road?  \\n\\nShe s...</td>\n",
       "      <td>0</td>\n",
       "      <td>0.377121</td>\n",
       "    </tr>\n",
       "    <tr>\n",
       "      <th>2</th>\n",
       "      <td>Why did the producers of 007 films use governm...</td>\n",
       "      <td>0</td>\n",
       "      <td>0.097349</td>\n",
       "    </tr>\n",
       "    <tr>\n",
       "      <th>3</th>\n",
       "      <td>I feel so bad for the necrophiliac's sister.  ...</td>\n",
       "      <td>0</td>\n",
       "      <td>0.001547</td>\n",
       "    </tr>\n",
       "    <tr>\n",
       "      <th>4</th>\n",
       "      <td>What's the difference between you and a Calend...</td>\n",
       "      <td>0</td>\n",
       "      <td>0.462920</td>\n",
       "    </tr>\n",
       "    <tr>\n",
       "      <th>5</th>\n",
       "      <td>This guy proposed to his wife after walking aw...</td>\n",
       "      <td>0</td>\n",
       "      <td>0.396785</td>\n",
       "    </tr>\n",
       "    <tr>\n",
       "      <th>6</th>\n",
       "      <td>Roses are red.  \\n\\nThe sky is blue.\\n\\nPigs m...</td>\n",
       "      <td>0</td>\n",
       "      <td>0.271241</td>\n",
       "    </tr>\n",
       "    <tr>\n",
       "      <th>7</th>\n",
       "      <td>These reports of a major snowstorm hitting the...</td>\n",
       "      <td>0</td>\n",
       "      <td>0.028787</td>\n",
       "    </tr>\n",
       "    <tr>\n",
       "      <th>8</th>\n",
       "      <td>Those ads actually ran.  \\n\\nI don't even have...</td>\n",
       "      <td>1</td>\n",
       "      <td>0.933635</td>\n",
       "    </tr>\n",
       "    <tr>\n",
       "      <th>9</th>\n",
       "      <td>Burnt my Hawaiian pizza today.   They were gre...</td>\n",
       "      <td>0</td>\n",
       "      <td>0.151207</td>\n",
       "    </tr>\n",
       "  </tbody>\n",
       "</table>\n",
       "</div>"
      ],
      "text/plain": [
       "                                               jokes  is_funny     proba\n",
       "0  Why is it so hard to break up with a Japanese ...         0  0.051966\n",
       "1  Why did the chicken cross the road?  \\n\\nShe s...         0  0.377121\n",
       "2  Why did the producers of 007 films use governm...         0  0.097349\n",
       "3  I feel so bad for the necrophiliac's sister.  ...         0  0.001547\n",
       "4  What's the difference between you and a Calend...         0  0.462920\n",
       "5  This guy proposed to his wife after walking aw...         0  0.396785\n",
       "6  Roses are red.  \\n\\nThe sky is blue.\\n\\nPigs m...         0  0.271241\n",
       "7  These reports of a major snowstorm hitting the...         0  0.028787\n",
       "8  Those ads actually ran.  \\n\\nI don't even have...         1  0.933635\n",
       "9  Burnt my Hawaiian pizza today.   They were gre...         0  0.151207"
      ]
     },
     "execution_count": 946,
     "metadata": {},
     "output_type": "execute_result"
    }
   ],
   "source": [
    "prediction_result\n"
   ]
  },
  {
   "cell_type": "code",
   "execution_count": 948,
   "metadata": {},
   "outputs": [
    {
     "data": {
      "text/plain": [
       "0    9\n",
       "1    1\n",
       "Name: is_funny, dtype: int64"
      ]
     },
     "execution_count": 948,
     "metadata": {},
     "output_type": "execute_result"
    }
   ],
   "source": [
    "prediction_result.is_funny.value_counts()\n"
   ]
  },
  {
   "cell_type": "code",
   "execution_count": null,
   "metadata": {},
   "outputs": [],
   "source": []
  },
  {
   "cell_type": "code",
   "execution_count": 949,
   "metadata": {},
   "outputs": [
    {
     "data": {
      "text/plain": [
       "0    9\n",
       "1    1\n",
       "Name: is_funny, dtype: int64"
      ]
     },
     "execution_count": 949,
     "metadata": {},
     "output_type": "execute_result"
    }
   ],
   "source": []
  },
  {
   "cell_type": "code",
   "execution_count": null,
   "metadata": {},
   "outputs": [],
   "source": []
  }
 ],
 "metadata": {
  "kernelspec": {
   "display_name": "Python 3",
   "language": "python",
   "name": "python3"
  },
  "language_info": {
   "codemirror_mode": {
    "name": "ipython",
    "version": 3
   },
   "file_extension": ".py",
   "mimetype": "text/x-python",
   "name": "python",
   "nbconvert_exporter": "python",
   "pygments_lexer": "ipython3",
   "version": "3.7.6"
  }
 },
 "nbformat": 4,
 "nbformat_minor": 2
}
