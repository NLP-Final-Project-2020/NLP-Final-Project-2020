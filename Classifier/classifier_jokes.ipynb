{
 "cells": [
  {
   "cell_type": "markdown",
   "metadata": {},
   "source": [
    "### jokes detection with Deep Learning"
   ]
  },
  {
   "cell_type": "code",
   "execution_count": 1,
   "metadata": {},
   "outputs": [
    {
     "name": "stdout",
     "output_type": "stream",
     "text": [
      "/Users/tsung-chin.han/ZDOC/Berkeley/w266/project_selfcheck/cls\r\n"
     ]
    }
   ],
   "source": [
    "!pwd"
   ]
  },
  {
   "cell_type": "code",
   "execution_count": 12,
   "metadata": {},
   "outputs": [],
   "source": [
    "import pandas as pd\n",
    "import numpy as np\n",
    "\n",
    "import json\n",
    "\n",
    "from matplotlib import pyplot as plt\n",
    "%matplotlib inline\n"
   ]
  },
  {
   "cell_type": "markdown",
   "metadata": {},
   "source": [
    "### load reddit_jokes"
   ]
  },
  {
   "cell_type": "code",
   "execution_count": 13,
   "metadata": {},
   "outputs": [
    {
     "data": {
      "text/html": [
       "<div>\n",
       "<style scoped>\n",
       "    .dataframe tbody tr th:only-of-type {\n",
       "        vertical-align: middle;\n",
       "    }\n",
       "\n",
       "    .dataframe tbody tr th {\n",
       "        vertical-align: top;\n",
       "    }\n",
       "\n",
       "    .dataframe thead th {\n",
       "        text-align: right;\n",
       "    }\n",
       "</style>\n",
       "<table border=\"1\" class=\"dataframe\">\n",
       "  <thead>\n",
       "    <tr style=\"text-align: right;\">\n",
       "      <th></th>\n",
       "      <th>body</th>\n",
       "      <th>id</th>\n",
       "      <th>score</th>\n",
       "      <th>title</th>\n",
       "    </tr>\n",
       "  </thead>\n",
       "  <tbody>\n",
       "    <tr>\n",
       "      <th>0</th>\n",
       "      <td>Now I have to say \"Leroy can you please paint ...</td>\n",
       "      <td>5tz52q</td>\n",
       "      <td>1</td>\n",
       "      <td>I hate how you cant even say black paint anymore</td>\n",
       "    </tr>\n",
       "    <tr>\n",
       "      <th>1</th>\n",
       "      <td>Pizza doesn't scream when you put it in the ov...</td>\n",
       "      <td>5tz4dd</td>\n",
       "      <td>0</td>\n",
       "      <td>What's the difference between a Jew in Nazi Ge...</td>\n",
       "    </tr>\n",
       "    <tr>\n",
       "      <th>2</th>\n",
       "      <td>...and being there really helped me learn abou...</td>\n",
       "      <td>5tz319</td>\n",
       "      <td>0</td>\n",
       "      <td>I recently went to America....</td>\n",
       "    </tr>\n",
       "    <tr>\n",
       "      <th>3</th>\n",
       "      <td>A Sunday school teacher is concerned that his ...</td>\n",
       "      <td>5tz2wj</td>\n",
       "      <td>1</td>\n",
       "      <td>Brian raises his hand and says, “He’s in Heaven.”</td>\n",
       "    </tr>\n",
       "    <tr>\n",
       "      <th>4</th>\n",
       "      <td>He got caught trying to sell the two books to ...</td>\n",
       "      <td>5tz1pc</td>\n",
       "      <td>0</td>\n",
       "      <td>You hear about the University book store worke...</td>\n",
       "    </tr>\n",
       "  </tbody>\n",
       "</table>\n",
       "</div>"
      ],
      "text/plain": [
       "                                                body      id  score  \\\n",
       "0  Now I have to say \"Leroy can you please paint ...  5tz52q      1   \n",
       "1  Pizza doesn't scream when you put it in the ov...  5tz4dd      0   \n",
       "2  ...and being there really helped me learn abou...  5tz319      0   \n",
       "3  A Sunday school teacher is concerned that his ...  5tz2wj      1   \n",
       "4  He got caught trying to sell the two books to ...  5tz1pc      0   \n",
       "\n",
       "                                               title  \n",
       "0   I hate how you cant even say black paint anymore  \n",
       "1  What's the difference between a Jew in Nazi Ge...  \n",
       "2                     I recently went to America....  \n",
       "3  Brian raises his hand and says, “He’s in Heaven.”  \n",
       "4  You hear about the University book store worke...  "
      ]
     },
     "execution_count": 13,
     "metadata": {},
     "output_type": "execute_result"
    }
   ],
   "source": [
    "df = pd.read_json('reddit_jokes.json')\n",
    "df.head()"
   ]
  },
  {
   "cell_type": "code",
   "execution_count": 14,
   "metadata": {},
   "outputs": [
    {
     "data": {
      "text/plain": [
       "(array([1.93449e+05, 6.59000e+02, 2.42000e+02, 1.13000e+02, 4.90000e+01,\n",
       "        2.40000e+01, 1.10000e+01, 3.00000e+00, 1.00000e+00, 2.00000e+00]),\n",
       " array([    0. ,  4852.6,  9705.2, 14557.8, 19410.4, 24263. , 29115.6,\n",
       "        33968.2, 38820.8, 43673.4, 48526. ]),\n",
       " <a list of 10 Patch objects>)"
      ]
     },
     "execution_count": 14,
     "metadata": {},
     "output_type": "execute_result"
    },
    {
     "data": {
      "image/png": "[encoded data removed]",
      "text/plain": [
       "<Figure size 432x288 with 1 Axes>"
      ]
     },
     "metadata": {
      "needs_background": "light"
     },
     "output_type": "display_data"
    }
   ],
   "source": [
    "# orignial distributition\n",
    "plt.hist(df.score)\n"
   ]
  },
  {
   "cell_type": "code",
   "execution_count": 15,
   "metadata": {},
   "outputs": [],
   "source": [
    "# modeling score >= 10 | <10\n",
    "df['is_joke'] = df.score.apply(lambda x: 1 if x >= 10 else 0)\n"
   ]
  },
  {
   "cell_type": "code",
   "execution_count": 16,
   "metadata": {},
   "outputs": [
    {
     "data": {
      "text/plain": [
       "(array([133075.,      0.,      0.,      0.,      0.,      0.,      0.,\n",
       "             0.,      0.,  61478.]),\n",
       " array([0. , 0.1, 0.2, 0.3, 0.4, 0.5, 0.6, 0.7, 0.8, 0.9, 1. ]),\n",
       " <a list of 10 Patch objects>)"
      ]
     },
     "execution_count": 16,
     "metadata": {},
     "output_type": "execute_result"
    },
    {
     "data": {
      "image/png": "[encoded data removed]",
      "text/plain": [
       "<Figure size 432x288 with 1 Axes>"
      ]
     },
     "metadata": {
      "needs_background": "light"
     },
     "output_type": "display_data"
    }
   ],
   "source": [
    "# modeling new binary distribution\n",
    "plt.hist(df.is_joke)\n"
   ]
  },
  {
   "cell_type": "code",
   "execution_count": 17,
   "metadata": {},
   "outputs": [],
   "source": [
    "# target\n",
    "# df['target'] = 'title:' + df.title + \". \" + \"body:\" + df.body\n",
    "df['target'] = df.title + \". \" + df.body\n"
   ]
  },
  {
   "cell_type": "code",
   "execution_count": 19,
   "metadata": {},
   "outputs": [
    {
     "name": "stdout",
     "output_type": "stream",
     "text": [
      "(194553, 2)\n"
     ]
    },
    {
     "data": {
      "text/html": [
       "<div>\n",
       "<style scoped>\n",
       "    .dataframe tbody tr th:only-of-type {\n",
       "        vertical-align: middle;\n",
       "    }\n",
       "\n",
       "    .dataframe tbody tr th {\n",
       "        vertical-align: top;\n",
       "    }\n",
       "\n",
       "    .dataframe thead th {\n",
       "        text-align: right;\n",
       "    }\n",
       "</style>\n",
       "<table border=\"1\" class=\"dataframe\">\n",
       "  <thead>\n",
       "    <tr style=\"text-align: right;\">\n",
       "      <th></th>\n",
       "      <th>target</th>\n",
       "      <th>is_joke</th>\n",
       "    </tr>\n",
       "  </thead>\n",
       "  <tbody>\n",
       "    <tr>\n",
       "      <th>0</th>\n",
       "      <td>I hate how you cant even say black paint anymo...</td>\n",
       "      <td>0</td>\n",
       "    </tr>\n",
       "    <tr>\n",
       "      <th>1</th>\n",
       "      <td>What's the difference between a Jew in Nazi Ge...</td>\n",
       "      <td>0</td>\n",
       "    </tr>\n",
       "    <tr>\n",
       "      <th>2</th>\n",
       "      <td>I recently went to America..... ...and being t...</td>\n",
       "      <td>0</td>\n",
       "    </tr>\n",
       "    <tr>\n",
       "      <th>3</th>\n",
       "      <td>Brian raises his hand and says, “He’s in Heave...</td>\n",
       "      <td>0</td>\n",
       "    </tr>\n",
       "    <tr>\n",
       "      <th>4</th>\n",
       "      <td>You hear about the University book store worke...</td>\n",
       "      <td>0</td>\n",
       "    </tr>\n",
       "  </tbody>\n",
       "</table>\n",
       "</div>"
      ],
      "text/plain": [
       "                                              target  is_joke\n",
       "0  I hate how you cant even say black paint anymo...        0\n",
       "1  What's the difference between a Jew in Nazi Ge...        0\n",
       "2  I recently went to America..... ...and being t...        0\n",
       "3  Brian raises his hand and says, “He’s in Heave...        0\n",
       "4  You hear about the University book store worke...        0"
      ]
     },
     "execution_count": 19,
     "metadata": {},
     "output_type": "execute_result"
    }
   ],
   "source": [
    "# finanl modeling dataset\n",
    "final_modeling = df[['target', 'is_joke']]\n",
    "print(final_modeling.shape)\n",
    "final_modeling.head()\n"
   ]
  },
  {
   "cell_type": "code",
   "execution_count": 20,
   "metadata": {},
   "outputs": [
    {
     "data": {
      "text/plain": [
       "0    133075\n",
       "1     61478\n",
       "Name: is_joke, dtype: int64"
      ]
     },
     "execution_count": 20,
     "metadata": {},
     "output_type": "execute_result"
    }
   ],
   "source": [
    "final_modeling.is_joke.value_counts()"
   ]
  },
  {
   "cell_type": "code",
   "execution_count": null,
   "metadata": {},
   "outputs": [],
   "source": []
  },
  {
   "cell_type": "code",
   "execution_count": 21,
   "metadata": {},
   "outputs": [
    {
     "name": "stderr",
     "output_type": "stream",
     "text": [
      "Using TensorFlow backend.\n"
     ]
    }
   ],
   "source": [
    "from keras.preprocessing.text import Tokenizer\n",
    "from keras.preprocessing.sequence import pad_sequences\n",
    "from keras.models import Sequential\n",
    "from keras.layers import Embedding,Flatten,Dense,Dropout,SimpleRNN,LSTM,Conv1D,MaxPooling1D,GlobalMaxPooling1D,GRU\n",
    "from keras.optimizers import RMSprop\n",
    "from keras import backend as K\n"
   ]
  },
  {
   "cell_type": "code",
   "execution_count": 27,
   "metadata": {},
   "outputs": [
    {
     "data": {
      "text/plain": [
       "39744"
      ]
     },
     "execution_count": 27,
     "metadata": {},
     "output_type": "execute_result"
    }
   ],
   "source": [
    "max(df.target.apply(lambda x: len(x)))"
   ]
  },
  {
   "cell_type": "markdown",
   "metadata": {},
   "source": [
    "### preprocess data"
   ]
  },
  {
   "cell_type": "code",
   "execution_count": 28,
   "metadata": {},
   "outputs": [],
   "source": [
    "texts = df.target.values"
   ]
  },
  {
   "cell_type": "code",
   "execution_count": 32,
   "metadata": {},
   "outputs": [
    {
     "data": {
      "text/plain": [
       "array([0, 0, 0, ..., 1, 1, 0])"
      ]
     },
     "execution_count": 32,
     "metadata": {},
     "output_type": "execute_result"
    }
   ],
   "source": [
    "df.is_joke.values"
   ]
  },
  {
   "cell_type": "markdown",
   "metadata": {},
   "source": [
    "### (current example from github)"
   ]
  },
  {
   "cell_type": "code",
   "execution_count": 33,
   "metadata": {},
   "outputs": [
    {
     "name": "stdout",
     "output_type": "stream",
     "text": [
      "Found 98403 unique tokens\n",
      "Shape of data tensor: (194553, 50)\n",
      "Shape of labels tensor: (194553,)\n"
     ]
    }
   ],
   "source": [
    "# Tokenizing the data\n",
    "maxlen = 50 # cut off sentences after 50 words\n",
    "max_words = 10000 # only consider top 10000 common words in dataset\n",
    "\n",
    "tokenizer = Tokenizer(num_words=max_words)\n",
    "tokenizer.fit_on_texts(texts)\n",
    "\n",
    "sequences = tokenizer.texts_to_sequences(texts)\n",
    "word_index = tokenizer.word_index\n",
    "\n",
    "print('Found %s unique tokens'%len(word_index))\n",
    "\n",
    "# padding the sequences\n",
    "data = pad_sequences(sequences, maxlen=maxlen)\n",
    "\n",
    "labels = np.array(df.is_joke.values)\n",
    "\n",
    "print('Shape of data tensor:',data.shape)\n",
    "print('Shape of labels tensor:',labels.shape)\n",
    "\n",
    "# shuffle the data\n",
    "indices = np.arange(data.shape[0])\n",
    "np.random.shuffle(indices)\n",
    "data = data[indices]\n",
    "labels = labels[indices]"
   ]
  },
  {
   "cell_type": "markdown",
   "metadata": {},
   "source": [
    "### Loading the pre-trained word embeddings\n",
    "(this will be changed to GPT, but for now using glove from the example...)\n"
   ]
  },
  {
   "cell_type": "code",
   "execution_count": 36,
   "metadata": {},
   "outputs": [
    {
     "name": "stdout",
     "output_type": "stream",
     "text": [
      "--2020-03-25 22:21:12--  http://nlp.stanford.edu/data/glove.6B.zip\n",
      "Resolving nlp.stanford.edu (nlp.stanford.edu)... 171.64.67.140\n",
      "Connecting to nlp.stanford.edu (nlp.stanford.edu)|171.64.67.140|:80... connected.\n",
      "HTTP request sent, awaiting response... 302 Found\n",
      "Location: https://nlp.stanford.edu/data/glove.6B.zip [following]\n",
      "--2020-03-25 22:21:12--  https://nlp.stanford.edu/data/glove.6B.zip\n",
      "Connecting to nlp.stanford.edu (nlp.stanford.edu)|171.64.67.140|:443... connected.\n",
      "HTTP request sent, awaiting response... 301 Moved Permanently\n",
      "Location: http://downloads.cs.stanford.edu/nlp/data/glove.6B.zip [following]\n",
      "--2020-03-25 22:21:12--  http://downloads.cs.stanford.edu/nlp/data/glove.6B.zip\n",
      "Resolving downloads.cs.stanford.edu (downloads.cs.stanford.edu)... 171.64.64.22\n",
      "Connecting to downloads.cs.stanford.edu (downloads.cs.stanford.edu)|171.64.64.22|:80... connected.\n",
      "HTTP request sent, awaiting response... 200 OK\n",
      "Length: 862182613 (822M) [application/zip]\n",
      "Saving to: ‘glove.6B.zip’\n",
      "\n",
      "glove.6B.zip        100%[===================>] 822.24M  2.33MB/s    in 9m 58s  \n",
      "\n",
      "2020-03-25 22:31:11 (1.37 MB/s) - ‘glove.6B.zip’ saved [862182613/862182613]\n",
      "\n"
     ]
    }
   ],
   "source": [
    "# due to small size of dataset\n",
    "# we would use standford's GloVe pre-trained word embeddings\n",
    "\n",
    "# download the GloVe word embeddings\n",
    "!wget http://nlp.stanford.edu/data/glove.6B.zip\n"
   ]
  },
  {
   "cell_type": "code",
   "execution_count": 38,
   "metadata": {},
   "outputs": [
    {
     "name": "stdout",
     "output_type": "stream",
     "text": [
      "Archive:  glove.6B.zip\n",
      "  inflating: glove.6B.50d.txt        \n",
      "  inflating: glove.6B.100d.txt       \n",
      "  inflating: glove.6B.200d.txt       \n",
      "  inflating: glove.6B.300d.txt       \n"
     ]
    }
   ],
   "source": [
    "!unzip glove.6B.zip\n"
   ]
  },
  {
   "cell_type": "code",
   "execution_count": 40,
   "metadata": {},
   "outputs": [
    {
     "name": "stdout",
     "output_type": "stream",
     "text": [
      "Found 400000 word vectors:\n"
     ]
    },
    {
     "ename": "IndexError",
     "evalue": "index 10000 is out of bounds for axis 0 with size 10000",
     "output_type": "error",
     "traceback": [
      "\u001b[0;31m---------------------------------------------------------------------------\u001b[0m",
      "\u001b[0;31mIndexError\u001b[0m                                Traceback (most recent call last)",
      "\u001b[0;32m<ipython-input-40-7b51a1895714>\u001b[0m in \u001b[0;36m<module>\u001b[0;34m\u001b[0m\n\u001b[1;32m     20\u001b[0m         \u001b[0membedding_vector\u001b[0m \u001b[0;34m=\u001b[0m \u001b[0membeddings_index\u001b[0m\u001b[0;34m.\u001b[0m\u001b[0mget\u001b[0m\u001b[0;34m(\u001b[0m\u001b[0mword\u001b[0m\u001b[0;34m)\u001b[0m\u001b[0;34m\u001b[0m\u001b[0;34m\u001b[0m\u001b[0m\n\u001b[1;32m     21\u001b[0m     \u001b[0;32mif\u001b[0m \u001b[0membedding_vector\u001b[0m \u001b[0;32mis\u001b[0m \u001b[0;32mnot\u001b[0m \u001b[0;32mNone\u001b[0m\u001b[0;34m:\u001b[0m\u001b[0;34m\u001b[0m\u001b[0;34m\u001b[0m\u001b[0m\n\u001b[0;32m---> 22\u001b[0;31m         \u001b[0membedding_matrix\u001b[0m\u001b[0;34m[\u001b[0m\u001b[0mi\u001b[0m\u001b[0;34m]\u001b[0m \u001b[0;34m=\u001b[0m \u001b[0membedding_vector\u001b[0m\u001b[0;34m\u001b[0m\u001b[0;34m\u001b[0m\u001b[0m\n\u001b[0m\u001b[1;32m     23\u001b[0m         \u001b[0;31m# for words not in embedding index values will be zeros\u001b[0m\u001b[0;34m\u001b[0m\u001b[0;34m\u001b[0m\u001b[0;34m\u001b[0m\u001b[0m\n\u001b[1;32m     24\u001b[0m \u001b[0;34m\u001b[0m\u001b[0m\n",
      "\u001b[0;31mIndexError\u001b[0m: index 10000 is out of bounds for axis 0 with size 10000"
     ]
    }
   ],
   "source": [
    "# parsing the GloVe word-embeddings file\n",
    "embeddings_index = {}\n",
    "\n",
    "f = open('glove.6B.100d.txt')\n",
    "for line in f:\n",
    "    values = line.split()\n",
    "    word = values[0]\n",
    "    coefs = np.asarray(values[1:], dtype='float32')\n",
    "    embeddings_index[word] = coefs\n",
    "f.close()\n",
    "\n",
    "print('Found %s word vectors:'%len(embeddings_index))\n",
    "\n",
    "# preparing glove word embeddings matrix\n",
    "embedding_dim = 100\n",
    "\n",
    "embedding_matrix = np.zeros((max_words, embedding_dim))\n",
    "for word, i in word_index.items():\n",
    "    if i<max_words:\n",
    "        embedding_vector = embeddings_index.get(word)\n",
    "    if embedding_vector is not None:\n",
    "        embedding_matrix[i] = embedding_vector \n",
    "        # for words not in embedding index values will be zeros\n",
    "        \n",
    "        "
   ]
  },
  {
   "cell_type": "code",
   "execution_count": null,
   "metadata": {},
   "outputs": [],
   "source": []
  },
  {
   "cell_type": "code",
   "execution_count": null,
   "metadata": {},
   "outputs": [],
   "source": []
  },
  {
   "cell_type": "markdown",
   "metadata": {},
   "source": [
    "### 1 - feed-forward network with dense layers on top of embedding layer"
   ]
  },
  {
   "cell_type": "code",
   "execution_count": 44,
   "metadata": {},
   "outputs": [
    {
     "name": "stderr",
     "output_type": "stream",
     "text": [
      "WARNING: Logging before flag parsing goes to stderr.\n",
      "W0325 22:37:51.530282 4539475392 module_wrapper.py:139] From /usr/local/lib/python3.7/site-packages/keras/backend/tensorflow_backend.py:74: The name tf.get_default_graph is deprecated. Please use tf.compat.v1.get_default_graph instead.\n",
      "\n",
      "W0325 22:37:51.541852 4539475392 module_wrapper.py:139] From /usr/local/lib/python3.7/site-packages/keras/backend/tensorflow_backend.py:517: The name tf.placeholder is deprecated. Please use tf.compat.v1.placeholder instead.\n",
      "\n",
      "W0325 22:37:51.558344 4539475392 module_wrapper.py:139] From /usr/local/lib/python3.7/site-packages/keras/backend/tensorflow_backend.py:4138: The name tf.random_uniform is deprecated. Please use tf.random.uniform instead.\n",
      "\n",
      "W0325 22:37:51.615498 4539475392 module_wrapper.py:139] From /usr/local/lib/python3.7/site-packages/keras/backend/tensorflow_backend.py:133: The name tf.placeholder_with_default is deprecated. Please use tf.compat.v1.placeholder_with_default instead.\n",
      "\n",
      "W0325 22:37:51.629767 4539475392 deprecation.py:506] From /usr/local/lib/python3.7/site-packages/keras/backend/tensorflow_backend.py:3445: calling dropout (from tensorflow.python.ops.nn_ops) with keep_prob is deprecated and will be removed in a future version.\n",
      "Instructions for updating:\n",
      "Please use `rate` instead of `keep_prob`. Rate should be set to `rate = 1 - keep_prob`.\n"
     ]
    },
    {
     "name": "stdout",
     "output_type": "stream",
     "text": [
      "_________________________________________________________________\n",
      "Layer (type)                 Output Shape              Param #   \n",
      "=================================================================\n",
      "embedding_1 (Embedding)      (None, 50, 100)           1000000   \n",
      "_________________________________________________________________\n",
      "flatten_1 (Flatten)          (None, 5000)              0         \n",
      "_________________________________________________________________\n",
      "dense_1 (Dense)              (None, 64)                320064    \n",
      "_________________________________________________________________\n",
      "dropout_1 (Dropout)          (None, 64)                0         \n",
      "_________________________________________________________________\n",
      "dense_2 (Dense)              (None, 1)                 65        \n",
      "=================================================================\n",
      "Total params: 1,320,129\n",
      "Trainable params: 1,320,129\n",
      "Non-trainable params: 0\n",
      "_________________________________________________________________\n"
     ]
    }
   ],
   "source": [
    "model = Sequential()\n",
    "model.add(Embedding(max_words, embedding_dim, input_length=maxlen))\n",
    "model.add(Flatten())\n",
    "\n",
    "model.add(Dense(64, activation='relu'))\n",
    "model.add(Dropout(0.3)) # adding regularization\n",
    "\n",
    "model.add(Dense(1, activation='sigmoid'))\n",
    "model.summary()\n"
   ]
  },
  {
   "cell_type": "code",
   "execution_count": 45,
   "metadata": {},
   "outputs": [
    {
     "name": "stderr",
     "output_type": "stream",
     "text": [
      "W0325 22:38:36.998430 4539475392 module_wrapper.py:139] From /usr/local/lib/python3.7/site-packages/keras/backend/tensorflow_backend.py:174: The name tf.get_default_session is deprecated. Please use tf.compat.v1.get_default_session instead.\n",
      "\n",
      "W0325 22:38:36.999905 4539475392 module_wrapper.py:139] From /usr/local/lib/python3.7/site-packages/keras/backend/tensorflow_backend.py:181: The name tf.ConfigProto is deprecated. Please use tf.compat.v1.ConfigProto instead.\n",
      "\n",
      "W0325 22:38:37.000699 4539475392 module_wrapper.py:139] From /usr/local/lib/python3.7/site-packages/keras/backend/tensorflow_backend.py:186: The name tf.Session is deprecated. Please use tf.compat.v1.Session instead.\n",
      "\n",
      "W0325 22:38:37.070448 4539475392 module_wrapper.py:139] From /usr/local/lib/python3.7/site-packages/keras/backend/tensorflow_backend.py:190: The name tf.global_variables is deprecated. Please use tf.compat.v1.global_variables instead.\n",
      "\n",
      "W0325 22:38:37.072010 4539475392 module_wrapper.py:139] From /usr/local/lib/python3.7/site-packages/keras/backend/tensorflow_backend.py:199: The name tf.is_variable_initialized is deprecated. Please use tf.compat.v1.is_variable_initialized instead.\n",
      "\n",
      "W0325 22:38:37.168197 4539475392 module_wrapper.py:139] From /usr/local/lib/python3.7/site-packages/keras/backend/tensorflow_backend.py:206: The name tf.variables_initializer is deprecated. Please use tf.compat.v1.variables_initializer instead.\n",
      "\n"
     ]
    }
   ],
   "source": [
    "# load pre-trained word embeddings into the embedding layer and freeze it\n",
    "model.layers[0].set_weights([embedding_matrix])\n",
    "model.layers[0].trainable = False"
   ]
  },
  {
   "cell_type": "code",
   "execution_count": 46,
   "metadata": {},
   "outputs": [],
   "source": [
    "# to compute f-measure as custom metric\n",
    "def f1(y_true, y_pred):\n",
    "    def recall(y_true, y_pred):\n",
    "        \"\"\"Recall metric.\n",
    "\n",
    "        Only computes a batch-wise average of recall.\n",
    "\n",
    "        Computes the recall, a metric for multi-label classification of\n",
    "        how many relevant items are selected.\n",
    "        \"\"\"\n",
    "        true_positives = K.sum(K.round(K.clip(y_true * y_pred, 0, 1)))\n",
    "        possible_positives = K.sum(K.round(K.clip(y_true, 0, 1)))\n",
    "        recall = true_positives / (possible_positives + K.epsilon())\n",
    "        return recall\n",
    "\n",
    "    def precision(y_true, y_pred):\n",
    "        \"\"\"Precision metric.\n",
    "\n",
    "        Only computes a batch-wise average of precision.\n",
    "\n",
    "        Computes the precision, a metric for multi-label classification of\n",
    "        how many selected items are relevant.\n",
    "        \"\"\"\n",
    "        true_positives = K.sum(K.round(K.clip(y_true * y_pred, 0, 1)))\n",
    "        predicted_positives = K.sum(K.round(K.clip(y_pred, 0, 1)))\n",
    "        precision = true_positives / (predicted_positives + K.epsilon())\n",
    "        return precision\n",
    "    precision = precision(y_true, y_pred)\n",
    "    recall = recall(y_true, y_pred)\n",
    "    return 2*((precision*recall)/(precision+recall+K.epsilon()))\n"
   ]
  },
  {
   "cell_type": "code",
   "execution_count": 47,
   "metadata": {},
   "outputs": [
    {
     "name": "stderr",
     "output_type": "stream",
     "text": [
      "W0325 22:39:22.789644 4539475392 module_wrapper.py:139] From /usr/local/lib/python3.7/site-packages/keras/optimizers.py:790: The name tf.train.Optimizer is deprecated. Please use tf.compat.v1.train.Optimizer instead.\n",
      "\n",
      "W0325 22:39:22.796127 4539475392 module_wrapper.py:139] From /usr/local/lib/python3.7/site-packages/keras/backend/tensorflow_backend.py:3376: The name tf.log is deprecated. Please use tf.math.log instead.\n",
      "\n",
      "W0325 22:39:22.801466 4539475392 deprecation.py:323] From /usr/local/lib/python3.7/site-packages/tensorflow_core/python/ops/nn_impl.py:183: where (from tensorflow.python.ops.array_ops) is deprecated and will be removed in a future version.\n",
      "Instructions for updating:\n",
      "Use tf.where in 2.0, which has the same broadcast rule as np.where\n",
      "W0325 22:39:23.058141 4539475392 module_wrapper.py:139] From /usr/local/lib/python3.7/site-packages/keras/backend/tensorflow_backend.py:986: The name tf.assign_add is deprecated. Please use tf.compat.v1.assign_add instead.\n",
      "\n",
      "W0325 22:39:23.066391 4539475392 module_wrapper.py:139] From /usr/local/lib/python3.7/site-packages/keras/backend/tensorflow_backend.py:973: The name tf.assign is deprecated. Please use tf.compat.v1.assign instead.\n",
      "\n"
     ]
    },
    {
     "name": "stdout",
     "output_type": "stream",
     "text": [
      "Train on 175097 samples, validate on 19456 samples\n",
      "Epoch 1/20\n",
      "175097/175097 [==============================] - 24s 139us/step - loss: 0.6104 - acc: 0.6842 - f1: 0.1761 - val_loss: 0.6015 - val_acc: 0.6879 - val_f1: 0.2748\n",
      "Epoch 2/20\n",
      "175097/175097 [==============================] - 23s 130us/step - loss: 0.5990 - acc: 0.6919 - f1: 0.2289 - val_loss: 0.5968 - val_acc: 0.6913 - val_f1: 0.2716\n",
      "Epoch 3/20\n",
      "175097/175097 [==============================] - 24s 139us/step - loss: 0.5924 - acc: 0.6975 - f1: 0.2504 - val_loss: 0.5964 - val_acc: 0.6939 - val_f1: 0.2263\n",
      "Epoch 4/20\n",
      "175097/175097 [==============================] - 24s 139us/step - loss: 0.5857 - acc: 0.7026 - f1: 0.2679 - val_loss: 0.5967 - val_acc: 0.6964 - val_f1: 0.2568\n",
      "Epoch 5/20\n",
      "175097/175097 [==============================] - 23s 129us/step - loss: 0.5787 - acc: 0.7092 - f1: 0.2929 - val_loss: 0.5967 - val_acc: 0.6956 - val_f1: 0.2066\n",
      "Epoch 6/20\n",
      "175097/175097 [==============================] - 23s 133us/step - loss: 0.5706 - acc: 0.7147 - f1: 0.3093 - val_loss: 0.6015 - val_acc: 0.6945 - val_f1: 0.3043\n",
      "Epoch 7/20\n",
      "175097/175097 [==============================] - 23s 131us/step - loss: 0.5641 - acc: 0.7203 - f1: 0.3254 - val_loss: 0.6025 - val_acc: 0.6958 - val_f1: 0.2592\n",
      "Epoch 8/20\n",
      "175097/175097 [==============================] - 23s 130us/step - loss: 0.5554 - acc: 0.7261 - f1: 0.3476 - val_loss: 0.6034 - val_acc: 0.6978 - val_f1: 0.2465\n",
      "Epoch 9/20\n",
      "175097/175097 [==============================] - 23s 131us/step - loss: 0.5475 - acc: 0.7323 - f1: 0.3660 - val_loss: 0.6056 - val_acc: 0.6978 - val_f1: 0.2140\n",
      "Epoch 10/20\n",
      "175097/175097 [==============================] - 23s 131us/step - loss: 0.5394 - acc: 0.7374 - f1: 0.3842 - val_loss: 0.6121 - val_acc: 0.6946 - val_f1: 0.3019\n",
      "Epoch 11/20\n",
      "175097/175097 [==============================] - 23s 133us/step - loss: 0.5316 - acc: 0.7429 - f1: 0.4022 - val_loss: 0.6149 - val_acc: 0.6930 - val_f1: 0.2798\n",
      "Epoch 12/20\n",
      "175097/175097 [==============================] - 23s 134us/step - loss: 0.5235 - acc: 0.7480 - f1: 0.4223 - val_loss: 0.6215 - val_acc: 0.6910 - val_f1: 0.3067\n",
      "Epoch 13/20\n",
      "175097/175097 [==============================] - 24s 138us/step - loss: 0.5155 - acc: 0.7527 - f1: 0.4364 - val_loss: 0.6330 - val_acc: 0.6955 - val_f1: 0.2306\n",
      "Epoch 14/20\n",
      "175097/175097 [==============================] - 23s 131us/step - loss: 0.5078 - acc: 0.7569 - f1: 0.4536 - val_loss: 0.6308 - val_acc: 0.6920 - val_f1: 0.2851\n",
      "Epoch 15/20\n",
      "175097/175097 [==============================] - 22s 127us/step - loss: 0.4999 - acc: 0.7620 - f1: 0.4689 - val_loss: 0.6369 - val_acc: 0.6932 - val_f1: 0.2751\n",
      "Epoch 16/20\n",
      "175097/175097 [==============================] - 23s 129us/step - loss: 0.4926 - acc: 0.7658 - f1: 0.4823 - val_loss: 0.6539 - val_acc: 0.6888 - val_f1: 0.2761\n",
      "Epoch 17/20\n",
      "175097/175097 [==============================] - 23s 130us/step - loss: 0.4857 - acc: 0.7706 - f1: 0.4974 - val_loss: 0.6570 - val_acc: 0.6891 - val_f1: 0.3006\n",
      "Epoch 18/20\n",
      "175097/175097 [==============================] - 24s 134us/step - loss: 0.4798 - acc: 0.7731 - f1: 0.5076 - val_loss: 0.6556 - val_acc: 0.6882 - val_f1: 0.2973\n",
      "Epoch 19/20\n",
      "175097/175097 [==============================] - 25s 142us/step - loss: 0.4726 - acc: 0.7775 - f1: 0.5230 - val_loss: 0.6666 - val_acc: 0.6886 - val_f1: 0.3105\n",
      "Epoch 20/20\n",
      "175097/175097 [==============================] - 27s 154us/step - loss: 0.4664 - acc: 0.7815 - f1: 0.5356 - val_loss: 0.6806 - val_acc: 0.6871 - val_f1: 0.3201\n"
     ]
    }
   ],
   "source": [
    "# train the model\n",
    "model.compile(optimizer=RMSprop(lr=1e-4), loss='binary_crossentropy', metrics = ['acc', f1])\n",
    "history = model.fit(data, labels, epochs=20, batch_size=32, validation_split=0.1)\n"
   ]
  },
  {
   "cell_type": "code",
   "execution_count": 48,
   "metadata": {},
   "outputs": [],
   "source": [
    "# helper function to plot the results\n",
    "def plot_result(history):\n",
    "    acc = history.history['acc']\n",
    "    val_acc = history.history['val_acc']\n",
    "    loss = history.history['loss']\n",
    "    val_loss = history.history['val_loss']\n",
    "    f1 = history.history['f1']\n",
    "    val_f1 = history.history['val_f1']\n",
    "  \n",
    "    epochs = range(1, len(acc)+1)\n",
    "    \n",
    "    \n",
    "    plt.plot(epochs, acc, label='Training acc')\n",
    "    plt.plot(epochs, val_acc, label='Validation acc')\n",
    "    plt.title('Training and validation accuracy')\n",
    "    plt.xlabel('epochs')\n",
    "    plt.ylabel('acc')\n",
    "    plt.legend()\n",
    "\n",
    "    plt.figure()\n",
    "\n",
    "    plt.plot(epochs, loss, label='Training loss')\n",
    "    plt.plot(epochs, val_loss, label='Validation loss')\n",
    "    plt.title('Training and validation loss')\n",
    "    plt.xlabel('epochs')\n",
    "    plt.ylabel('loss')\n",
    "    plt.legend()\n",
    "\n",
    "    plt.figure()\n",
    "\n",
    "    plt.plot(epochs, f1, label='Training fmeasure')\n",
    "    plt.plot(epochs, val_f1, label='Validation fmeasure')\n",
    "    plt.title('Training and validation fmeasure')\n",
    "    plt.xlabel('epochs')\n",
    "    plt.ylabel('f1')\n",
    "    plt.legend()\n",
    "\n",
    "    plt.show()\n",
    "    "
   ]
  },
  {
   "cell_type": "code",
   "execution_count": 49,
   "metadata": {},
   "outputs": [
    {
     "data": {
      "image/png": "[encoded data removed]",
      "text/plain": [
       "<Figure size 432x288 with 1 Axes>"
      ]
     },
     "metadata": {
      "needs_background": "light"
     },
     "output_type": "display_data"
    },
    {
     "data": {
      "image/png": "[encoded data removed]",
      "text/plain": [
       "<Figure size 432x288 with 1 Axes>"
      ]
     },
     "metadata": {
      "needs_background": "light"
     },
     "output_type": "display_data"
    },
    {
     "data": {
      "image/png": "[encoded data removed]",
      "text/plain": [
       "<Figure size 432x288 with 1 Axes>"
      ]
     },
     "metadata": {
      "needs_background": "light"
     },
     "output_type": "display_data"
    }
   ],
   "source": [
    "# plotting the results\n",
    "plot_result(history)\n"
   ]
  },
  {
   "cell_type": "code",
   "execution_count": null,
   "metadata": {},
   "outputs": [],
   "source": []
  },
  {
   "cell_type": "markdown",
   "metadata": {},
   "source": [
    "### 2 - model without pre-trained word embeddings"
   ]
  },
  {
   "cell_type": "code",
   "execution_count": 50,
   "metadata": {},
   "outputs": [
    {
     "name": "stdout",
     "output_type": "stream",
     "text": [
      "_________________________________________________________________\n",
      "Layer (type)                 Output Shape              Param #   \n",
      "=================================================================\n",
      "embedding_2 (Embedding)      (None, 50, 100)           1000000   \n",
      "_________________________________________________________________\n",
      "flatten_2 (Flatten)          (None, 5000)              0         \n",
      "_________________________________________________________________\n",
      "dense_3 (Dense)              (None, 64)                320064    \n",
      "_________________________________________________________________\n",
      "dropout_2 (Dropout)          (None, 64)                0         \n",
      "_________________________________________________________________\n",
      "dense_4 (Dense)              (None, 1)                 65        \n",
      "=================================================================\n",
      "Total params: 1,320,129\n",
      "Trainable params: 1,320,129\n",
      "Non-trainable params: 0\n",
      "_________________________________________________________________\n",
      "Train on 175097 samples, validate on 19456 samples\n",
      "Epoch 1/20\n",
      "175097/175097 [==============================] - 85s 488us/step - loss: 0.6037 - acc: 0.6888 - f1: 0.1569 - val_loss: 0.5944 - val_acc: 0.6959 - val_f1: 0.1942\n",
      "Epoch 2/20\n",
      "175097/175097 [==============================] - 79s 452us/step - loss: 0.5864 - acc: 0.7044 - f1: 0.2586 - val_loss: 0.5919 - val_acc: 0.6984 - val_f1: 0.2626\n",
      "Epoch 3/20\n",
      "175097/175097 [==============================] - 75s 426us/step - loss: 0.5684 - acc: 0.7184 - f1: 0.3173 - val_loss: 0.5952 - val_acc: 0.7009 - val_f1: 0.2463\n",
      "Epoch 4/20\n",
      "175097/175097 [==============================] - 77s 442us/step - loss: 0.5479 - acc: 0.7353 - f1: 0.3841 - val_loss: 0.6061 - val_acc: 0.6955 - val_f1: 0.3373\n",
      "Epoch 5/20\n",
      "175097/175097 [==============================] - 74s 425us/step - loss: 0.5247 - acc: 0.7522 - f1: 0.4505 - val_loss: 0.6151 - val_acc: 0.6943 - val_f1: 0.3078\n",
      "Epoch 6/20\n",
      "175097/175097 [==============================] - 79s 453us/step - loss: 0.5006 - acc: 0.7678 - f1: 0.5055 - val_loss: 0.6408 - val_acc: 0.6782 - val_f1: 0.3827\n",
      "Epoch 7/20\n",
      "175097/175097 [==============================] - 79s 451us/step - loss: 0.4773 - acc: 0.7828 - f1: 0.5525 - val_loss: 0.6543 - val_acc: 0.6890 - val_f1: 0.3084\n",
      "Epoch 8/20\n",
      "175097/175097 [==============================] - 76s 436us/step - loss: 0.4564 - acc: 0.7949 - f1: 0.5879 - val_loss: 0.6763 - val_acc: 0.6870 - val_f1: 0.3026\n",
      "Epoch 9/20\n",
      "175097/175097 [==============================] - 79s 449us/step - loss: 0.4365 - acc: 0.8065 - f1: 0.6178 - val_loss: 0.7098 - val_acc: 0.6823 - val_f1: 0.3563\n",
      "Epoch 10/20\n",
      "175097/175097 [==============================] - 76s 436us/step - loss: 0.4192 - acc: 0.8166 - f1: 0.6439 - val_loss: 0.7252 - val_acc: 0.6762 - val_f1: 0.3652\n",
      "Epoch 11/20\n",
      "175097/175097 [==============================] - 75s 429us/step - loss: 0.4035 - acc: 0.8252 - f1: 0.6641 - val_loss: 0.7522 - val_acc: 0.6733 - val_f1: 0.3562\n",
      "Epoch 12/20\n",
      "175097/175097 [==============================] - 79s 453us/step - loss: 0.3901 - acc: 0.8324 - f1: 0.6802 - val_loss: 0.7774 - val_acc: 0.6761 - val_f1: 0.3414\n",
      "Epoch 13/20\n",
      "175097/175097 [==============================] - 79s 451us/step - loss: 0.3774 - acc: 0.8389 - f1: 0.6956 - val_loss: 0.7955 - val_acc: 0.6746 - val_f1: 0.3485\n",
      "Epoch 14/20\n",
      "175097/175097 [==============================] - 80s 458us/step - loss: 0.3671 - acc: 0.8441 - f1: 0.7065 - val_loss: 0.8072 - val_acc: 0.6545 - val_f1: 0.3750\n",
      "Epoch 15/20\n",
      "175097/175097 [==============================] - 79s 449us/step - loss: 0.3577 - acc: 0.8495 - f1: 0.7178 - val_loss: 0.8424 - val_acc: 0.6465 - val_f1: 0.3858\n",
      "Epoch 16/20\n",
      "175097/175097 [==============================] - 77s 440us/step - loss: 0.3487 - acc: 0.8534 - f1: 0.7259 - val_loss: 0.8936 - val_acc: 0.6589 - val_f1: 0.3740\n",
      "Epoch 17/20\n",
      "175097/175097 [==============================] - 74s 422us/step - loss: 0.3412 - acc: 0.8581 - f1: 0.7357 - val_loss: 0.9116 - val_acc: 0.6717 - val_f1: 0.3352\n",
      "Epoch 18/20\n",
      "175097/175097 [==============================] - 74s 420us/step - loss: 0.3345 - acc: 0.8610 - f1: 0.7420 - val_loss: 0.9160 - val_acc: 0.6469 - val_f1: 0.3843\n",
      "Epoch 19/20\n",
      "175097/175097 [==============================] - 76s 433us/step - loss: 0.3280 - acc: 0.8645 - f1: 0.7492 - val_loss: 0.9708 - val_acc: 0.6429 - val_f1: 0.3916\n",
      "Epoch 20/20\n",
      "175097/175097 [==============================] - 79s 451us/step - loss: 0.3223 - acc: 0.8673 - f1: 0.7538 - val_loss: 0.9381 - val_acc: 0.6514 - val_f1: 0.3796\n"
     ]
    }
   ],
   "source": [
    "model = Sequential()\n",
    "model.add(Embedding(max_words, embedding_dim, input_length=maxlen))\n",
    "model.add(Flatten())\n",
    "\n",
    "model.add(Dense(64, activation='relu'))\n",
    "model.add(Dropout(0.3)) # adding regularization\n",
    "\n",
    "model.add(Dense(1, activation='sigmoid'))\n",
    "model.summary()\n",
    "\n",
    "model.compile(optimizer=RMSprop(lr=1e-4), loss='binary_crossentropy', metrics = ['acc', f1])\n",
    "history = model.fit(data, labels, epochs=20, batch_size=32, validation_split=0.1)"
   ]
  },
  {
   "cell_type": "code",
   "execution_count": 52,
   "metadata": {},
   "outputs": [
    {
     "data": {
      "image/png": "[encoded data removed]",
      "text/plain": [
       "<Figure size 432x288 with 1 Axes>"
      ]
     },
     "metadata": {
      "needs_background": "light"
     },
     "output_type": "display_data"
    },
    {
     "data": {
      "image/png": "[encoded data removed]",
      "text/plain": [
       "<Figure size 432x288 with 1 Axes>"
      ]
     },
     "metadata": {
      "needs_background": "light"
     },
     "output_type": "display_data"
    },
    {
     "data": {
      "image/png": "[encoded data removed]",
      "text/plain": [
       "<Figure size 432x288 with 1 Axes>"
      ]
     },
     "metadata": {
      "needs_background": "light"
     },
     "output_type": "display_data"
    }
   ],
   "source": [
    "plot_result(history)\n"
   ]
  },
  {
   "cell_type": "code",
   "execution_count": null,
   "metadata": {},
   "outputs": [],
   "source": []
  },
  {
   "cell_type": "code",
   "execution_count": 51,
   "metadata": {},
   "outputs": [],
   "source": [
    "### discuss...."
   ]
  },
  {
   "cell_type": "markdown",
   "metadata": {},
   "source": [
    "### 3 - RNN on top of embedding (check if we'd like to proceed)"
   ]
  },
  {
   "cell_type": "markdown",
   "metadata": {},
   "source": [
    "### 4 - LSTM on top of embedding (check if we'd like to proceed)"
   ]
  },
  {
   "cell_type": "markdown",
   "metadata": {},
   "source": [
    "### 5 - Conv layer on top of embedding (check if we'd like to proceed)"
   ]
  },
  {
   "cell_type": "code",
   "execution_count": null,
   "metadata": {},
   "outputs": [],
   "source": []
  },
  {
   "cell_type": "code",
   "execution_count": null,
   "metadata": {},
   "outputs": [],
   "source": []
  }
 ],
 "metadata": {
  "kernelspec": {
   "display_name": "Python 3",
   "language": "python",
   "name": "python3"
  },
  "language_info": {
   "codemirror_mode": {
    "name": "ipython",
    "version": 3
   },
   "file_extension": ".py",
   "mimetype": "text/x-python",
   "name": "python",
   "nbconvert_exporter": "python",
   "pygments_lexer": "ipython3",
   "version": "3.7.6"
  }
 },
 "nbformat": 4,
 "nbformat_minor": 2
}
