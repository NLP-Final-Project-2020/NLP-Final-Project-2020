{
 "cells": [
  {
   "cell_type": "markdown",
   "metadata": {},
   "source": [
    "### jokes detection with Deep Learning\n",
    "A humor reconizer and the results for the GPT-2 model\n"
   ]
  },
  {
   "cell_type": "code",
   "execution_count": 1,
   "metadata": {},
   "outputs": [
    {
     "name": "stdout",
     "output_type": "stream",
     "text": [
      "/Users/tsung-chin.han/ZDOC/Berkeley/w266/NLP-Final-Project-2020/Classifier\r\n"
     ]
    }
   ],
   "source": [
    "!pwd"
   ]
  },
  {
   "cell_type": "markdown",
   "metadata": {},
   "source": [
    "### 0 - Packages dependencies"
   ]
  },
  {
   "cell_type": "code",
   "execution_count": null,
   "metadata": {},
   "outputs": [],
   "source": [
    "# import sys\n",
    "# !{sys.executable} -m pip install tensorflow==1.15.0"
   ]
  },
  {
   "cell_type": "code",
   "execution_count": 2,
   "metadata": {},
   "outputs": [],
   "source": [
    "# data\n",
    "import pandas as pd\n",
    "import numpy as np\n",
    "import json\n",
    "\n",
    "# plotting\n",
    "from matplotlib import pyplot as plt\n",
    "%matplotlib inline\n",
    "\n",
    "# deep learning\n",
    "import tensorflow as tf\n",
    "from tensorflow import keras\n",
    "\n",
    "from keras.preprocessing.text import Tokenizer\n",
    "from keras.preprocessing.sequence import pad_sequences\n",
    "from keras.models import Sequential\n",
    "from keras.layers import Embedding,Flatten,Dense,Dropout,SimpleRNN,LSTM,Conv1D,MaxPooling1D,GlobalMaxPooling1D,GRU\n",
    "from keras.layers import Conv3D, MaxPooling3D\n",
    "from keras.optimizers import RMSprop\n",
    "from keras.optimizers import Adagrad\n",
    "from keras import backend as K\n",
    "\n",
    "# other\n",
    "import requests\n"
   ]
  },
  {
   "cell_type": "code",
   "execution_count": 165,
   "metadata": {},
   "outputs": [
    {
     "name": "stdout",
     "output_type": "stream",
     "text": [
      "1.15.0\n"
     ]
    }
   ],
   "source": [
    "# tensorflow version check\n",
    "print(tf.__version__)"
   ]
  },
  {
   "cell_type": "markdown",
   "metadata": {},
   "source": [
    "### 1 - Data - traning data - reddit_jokes"
   ]
  },
  {
   "cell_type": "code",
   "execution_count": 3,
   "metadata": {},
   "outputs": [
    {
     "name": "stdout",
     "output_type": "stream",
     "text": [
      "(194553, 4)\n"
     ]
    },
    {
     "data": {
      "text/html": [
       "<div>\n",
       "<style scoped>\n",
       "    .dataframe tbody tr th:only-of-type {\n",
       "        vertical-align: middle;\n",
       "    }\n",
       "\n",
       "    .dataframe tbody tr th {\n",
       "        vertical-align: top;\n",
       "    }\n",
       "\n",
       "    .dataframe thead th {\n",
       "        text-align: right;\n",
       "    }\n",
       "</style>\n",
       "<table border=\"1\" class=\"dataframe\">\n",
       "  <thead>\n",
       "    <tr style=\"text-align: right;\">\n",
       "      <th></th>\n",
       "      <th>body</th>\n",
       "      <th>id</th>\n",
       "      <th>score</th>\n",
       "      <th>title</th>\n",
       "    </tr>\n",
       "  </thead>\n",
       "  <tbody>\n",
       "    <tr>\n",
       "      <th>0</th>\n",
       "      <td>Now I have to say \"Leroy can you please paint ...</td>\n",
       "      <td>5tz52q</td>\n",
       "      <td>1</td>\n",
       "      <td>I hate how you cant even say black paint anymore</td>\n",
       "    </tr>\n",
       "    <tr>\n",
       "      <th>1</th>\n",
       "      <td>Pizza doesn't scream when you put it in the ov...</td>\n",
       "      <td>5tz4dd</td>\n",
       "      <td>0</td>\n",
       "      <td>What's the difference between a Jew in Nazi Ge...</td>\n",
       "    </tr>\n",
       "    <tr>\n",
       "      <th>2</th>\n",
       "      <td>...and being there really helped me learn abou...</td>\n",
       "      <td>5tz319</td>\n",
       "      <td>0</td>\n",
       "      <td>I recently went to America....</td>\n",
       "    </tr>\n",
       "    <tr>\n",
       "      <th>3</th>\n",
       "      <td>A Sunday school teacher is concerned that his ...</td>\n",
       "      <td>5tz2wj</td>\n",
       "      <td>1</td>\n",
       "      <td>Brian raises his hand and says, “He’s in Heaven.”</td>\n",
       "    </tr>\n",
       "    <tr>\n",
       "      <th>4</th>\n",
       "      <td>He got caught trying to sell the two books to ...</td>\n",
       "      <td>5tz1pc</td>\n",
       "      <td>0</td>\n",
       "      <td>You hear about the University book store worke...</td>\n",
       "    </tr>\n",
       "  </tbody>\n",
       "</table>\n",
       "</div>"
      ],
      "text/plain": [
       "                                                body      id  score  \\\n",
       "0  Now I have to say \"Leroy can you please paint ...  5tz52q      1   \n",
       "1  Pizza doesn't scream when you put it in the ov...  5tz4dd      0   \n",
       "2  ...and being there really helped me learn abou...  5tz319      0   \n",
       "3  A Sunday school teacher is concerned that his ...  5tz2wj      1   \n",
       "4  He got caught trying to sell the two books to ...  5tz1pc      0   \n",
       "\n",
       "                                               title  \n",
       "0   I hate how you cant even say black paint anymore  \n",
       "1  What's the difference between a Jew in Nazi Ge...  \n",
       "2                     I recently went to America....  \n",
       "3  Brian raises his hand and says, “He’s in Heaven.”  \n",
       "4  You hear about the University book store worke...  "
      ]
     },
     "execution_count": 3,
     "metadata": {},
     "output_type": "execute_result"
    }
   ],
   "source": [
    "df = pd.read_json('reddit_jokes.json')\n",
    "print(df.shape)\n",
    "df.head()"
   ]
  },
  {
   "cell_type": "markdown",
   "metadata": {},
   "source": [
    "Check the distribution for the score for the jokes."
   ]
  },
  {
   "cell_type": "code",
   "execution_count": 4,
   "metadata": {},
   "outputs": [
    {
     "data": {
      "text/plain": [
       "(array([1.93449e+05, 6.59000e+02, 2.42000e+02, 1.13000e+02, 4.90000e+01,\n",
       "        2.40000e+01, 1.10000e+01, 3.00000e+00, 1.00000e+00, 2.00000e+00]),\n",
       " array([    0. ,  4852.6,  9705.2, 14557.8, 19410.4, 24263. , 29115.6,\n",
       "        33968.2, 38820.8, 43673.4, 48526. ]),\n",
       " <a list of 10 Patch objects>)"
      ]
     },
     "execution_count": 4,
     "metadata": {},
     "output_type": "execute_result"
    },
    {
     "data": {
      "image/png": "[encoded data removed]",
      "text/plain": [
       "<Figure size 432x288 with 1 Axes>"
      ]
     },
     "metadata": {
      "needs_background": "light"
     },
     "output_type": "display_data"
    }
   ],
   "source": [
    "# orignial distributition\n",
    "plt.hist(df.score)\n"
   ]
  },
  {
   "cell_type": "code",
   "execution_count": 5,
   "metadata": {},
   "outputs": [
    {
     "data": {
      "text/plain": [
       "count    194553.000000\n",
       "mean        118.223255\n",
       "std         936.231277\n",
       "min           0.000000\n",
       "25%           0.000000\n",
       "50%           3.000000\n",
       "75%          16.000000\n",
       "max       48526.000000\n",
       "Name: score, dtype: float64"
      ]
     },
     "execution_count": 5,
     "metadata": {},
     "output_type": "execute_result"
    }
   ],
   "source": [
    "df.score.describe()"
   ]
  },
  {
   "cell_type": "code",
   "execution_count": 6,
   "metadata": {},
   "outputs": [
    {
     "name": "stdout",
     "output_type": "stream",
     "text": [
      "<class 'pandas.core.frame.DataFrame'>\n",
      "RangeIndex: 194553 entries, 0 to 194552\n",
      "Data columns (total 4 columns):\n",
      "body     194553 non-null object\n",
      "id       194553 non-null object\n",
      "score    194553 non-null int64\n",
      "title    194553 non-null object\n",
      "dtypes: int64(1), object(3)\n",
      "memory usage: 5.9+ MB\n"
     ]
    }
   ],
   "source": [
    "df.info()"
   ]
  },
  {
   "cell_type": "code",
   "execution_count": 7,
   "metadata": {},
   "outputs": [
    {
     "data": {
      "text/plain": [
       "(194553,)"
      ]
     },
     "execution_count": 7,
     "metadata": {},
     "output_type": "execute_result"
    }
   ],
   "source": [
    "df.score.shape"
   ]
  },
  {
   "cell_type": "code",
   "execution_count": 100,
   "metadata": {},
   "outputs": [],
   "source": [
    "# from sklearn.preprocessing import StandardScaler\n",
    "# from sklearn.preprocessing import MinMaxScaler\n",
    "# scaler = StandardScaler()\n",
    "\n",
    "# df.score = scaler.fit_transform(df.score)\n"
   ]
  },
  {
   "cell_type": "code",
   "execution_count": 8,
   "metadata": {},
   "outputs": [
    {
     "name": "stdout",
     "output_type": "stream",
     "text": [
      "0.6835772257431137\n",
      "0.3164227742568863\n",
      "0.09641074668599302\n"
     ]
    }
   ],
   "source": [
    "print(df.score[df.score!=0].count()/df.score.shape[0])\n",
    "print(df.score[df.score==0].count()/df.score.shape[0])\n",
    "print(df.score[df.score >=100].count()/df.score.shape[0])\n"
   ]
  },
  {
   "cell_type": "markdown",
   "metadata": {},
   "source": [
    "label postive and negative jokes based on the score - form a binary label for us to model with."
   ]
  },
  {
   "cell_type": "code",
   "execution_count": 9,
   "metadata": {},
   "outputs": [],
   "source": [
    "# modeling score\n",
    "df['is_funny'] = df.score.apply(lambda x: 1 if x > 1 else 0)\n"
   ]
  },
  {
   "cell_type": "markdown",
   "metadata": {},
   "source": [
    "check the binary distribution"
   ]
  },
  {
   "cell_type": "code",
   "execution_count": 58,
   "metadata": {},
   "outputs": [
    {
     "data": {
      "text/plain": [
       "(array([ 80908.,      0.,      0.,      0.,      0.,      0.,      0.,\n",
       "             0.,      0., 113645.]),\n",
       " array([0. , 0.1, 0.2, 0.3, 0.4, 0.5, 0.6, 0.7, 0.8, 0.9, 1. ]),\n",
       " <a list of 10 Patch objects>)"
      ]
     },
     "execution_count": 58,
     "metadata": {},
     "output_type": "execute_result"
    },
    {
     "data": {
      "image/png": "[encoded data removed]",
      "text/plain": [
       "<Figure size 432x288 with 1 Axes>"
      ]
     },
     "metadata": {
      "needs_background": "light"
     },
     "output_type": "display_data"
    }
   ],
   "source": [
    "# modeling new binary distribution\n",
    "plt.hist(df.is_funny)\n"
   ]
  },
  {
   "cell_type": "markdown",
   "metadata": {},
   "source": [
    "Construct our tagert jokes format that are in line with our output from GPT-2 model."
   ]
  },
  {
   "cell_type": "code",
   "execution_count": 11,
   "metadata": {},
   "outputs": [],
   "source": [
    "# target\n",
    "df['target'] = 'title: ' + df.title + \". \" + \"body: \" + df.body\n",
    "# df['target'] = df.title + \". \" + df.body\n"
   ]
  },
  {
   "cell_type": "markdown",
   "metadata": {},
   "source": [
    "Our final modeling data set"
   ]
  },
  {
   "cell_type": "code",
   "execution_count": 12,
   "metadata": {},
   "outputs": [
    {
     "name": "stdout",
     "output_type": "stream",
     "text": [
      "(194553, 2)\n"
     ]
    },
    {
     "data": {
      "text/html": [
       "<div>\n",
       "<style scoped>\n",
       "    .dataframe tbody tr th:only-of-type {\n",
       "        vertical-align: middle;\n",
       "    }\n",
       "\n",
       "    .dataframe tbody tr th {\n",
       "        vertical-align: top;\n",
       "    }\n",
       "\n",
       "    .dataframe thead th {\n",
       "        text-align: right;\n",
       "    }\n",
       "</style>\n",
       "<table border=\"1\" class=\"dataframe\">\n",
       "  <thead>\n",
       "    <tr style=\"text-align: right;\">\n",
       "      <th></th>\n",
       "      <th>target</th>\n",
       "      <th>is_funny</th>\n",
       "    </tr>\n",
       "  </thead>\n",
       "  <tbody>\n",
       "    <tr>\n",
       "      <th>0</th>\n",
       "      <td>title: I hate how you cant even say black pain...</td>\n",
       "      <td>0</td>\n",
       "    </tr>\n",
       "    <tr>\n",
       "      <th>1</th>\n",
       "      <td>title: What's the difference between a Jew in ...</td>\n",
       "      <td>0</td>\n",
       "    </tr>\n",
       "    <tr>\n",
       "      <th>2</th>\n",
       "      <td>title: I recently went to America..... body: ....</td>\n",
       "      <td>0</td>\n",
       "    </tr>\n",
       "    <tr>\n",
       "      <th>3</th>\n",
       "      <td>title: Brian raises his hand and says, “He’s i...</td>\n",
       "      <td>0</td>\n",
       "    </tr>\n",
       "    <tr>\n",
       "      <th>4</th>\n",
       "      <td>title: You hear about the University book stor...</td>\n",
       "      <td>0</td>\n",
       "    </tr>\n",
       "  </tbody>\n",
       "</table>\n",
       "</div>"
      ],
      "text/plain": [
       "                                              target  is_funny\n",
       "0  title: I hate how you cant even say black pain...         0\n",
       "1  title: What's the difference between a Jew in ...         0\n",
       "2  title: I recently went to America..... body: ....         0\n",
       "3  title: Brian raises his hand and says, “He’s i...         0\n",
       "4  title: You hear about the University book stor...         0"
      ]
     },
     "execution_count": 12,
     "metadata": {},
     "output_type": "execute_result"
    }
   ],
   "source": [
    "# finanl modeling dataset\n",
    "final_modeling = df[['target', 'is_funny']]\n",
    "print(final_modeling.shape)\n",
    "final_modeling.head()\n"
   ]
  },
  {
   "cell_type": "code",
   "execution_count": 13,
   "metadata": {},
   "outputs": [
    {
     "data": {
      "text/plain": [
       "1    113645\n",
       "0     80908\n",
       "Name: is_funny, dtype: int64"
      ]
     },
     "execution_count": 13,
     "metadata": {},
     "output_type": "execute_result"
    }
   ],
   "source": [
    "final_modeling.is_funny.value_counts()"
   ]
  },
  {
   "cell_type": "code",
   "execution_count": 16,
   "metadata": {},
   "outputs": [
    {
     "data": {
      "text/plain": [
       "39757"
      ]
     },
     "execution_count": 16,
     "metadata": {},
     "output_type": "execute_result"
    }
   ],
   "source": [
    "# total sampels\n",
    "print('total training samples: ',max(df.target.apply(lambda x: len(x))))\n"
   ]
  },
  {
   "cell_type": "markdown",
   "metadata": {},
   "source": [
    "### 2 - Preprocess Data"
   ]
  },
  {
   "cell_type": "code",
   "execution_count": 19,
   "metadata": {},
   "outputs": [
    {
     "name": "stdout",
     "output_type": "stream",
     "text": [
      "Found 98403 unique tokens\n"
     ]
    }
   ],
   "source": [
    "# sampel texts\n",
    "texts = final_modeling.target.values\n",
    "\n",
    "# tokenizing the data\n",
    "maxlen = 50 # cut off sentences after 50 words\n",
    "max_words = 10000 # consider only top 10000 common words in our samples\n",
    "\n",
    "tokenizer = Tokenizer(num_words=max_words)\n",
    "tokenizer.fit_on_texts(texts)\n",
    "\n",
    "sequences = tokenizer.texts_to_sequences(texts) # texts to seq\n",
    "word_index = tokenizer.word_index # index\n",
    "\n",
    "print('found %s unique tokens'%len(word_index))\n",
    "\n",
    "# padding the sequences\n",
    "data = pad_sequences(sequences, maxlen=maxlen) # padding\n",
    "labels = np.array(final_modeling.is_funny.values)\n",
    "\n",
    "print('shape of data tensor:',data.shape)\n",
    "print('shape of labels tensor:',labels.shape)\n"
   ]
  },
  {
   "cell_type": "code",
   "execution_count": 21,
   "metadata": {},
   "outputs": [],
   "source": [
    "# shuffle the data that splits randomly for train and dev\n",
    "indices = np.arange(data.shape[0])\n",
    "np.random.shuffle(indices)\n",
    "data = data[indices]\n",
    "labels = labels[indices]\n"
   ]
  },
  {
   "cell_type": "code",
   "execution_count": null,
   "metadata": {},
   "outputs": [],
   "source": []
  },
  {
   "cell_type": "markdown",
   "metadata": {},
   "source": [
    "### 3 - Loading the pre-trained word embeddings\n",
    "(Note we are using glove embeeding for the classifier, as we take the input from the GPT-2 pre-trained)\n"
   ]
  },
  {
   "cell_type": "code",
   "execution_count": 36,
   "metadata": {},
   "outputs": [
    {
     "name": "stdout",
     "output_type": "stream",
     "text": [
      "--2020-03-25 22:21:12--  http://nlp.stanford.edu/data/glove.6B.zip\n",
      "Resolving nlp.stanford.edu (nlp.stanford.edu)... 171.64.67.140\n",
      "Connecting to nlp.stanford.edu (nlp.stanford.edu)|171.64.67.140|:80... connected.\n",
      "HTTP request sent, awaiting response... 302 Found\n",
      "Location: https://nlp.stanford.edu/data/glove.6B.zip [following]\n",
      "--2020-03-25 22:21:12--  https://nlp.stanford.edu/data/glove.6B.zip\n",
      "Connecting to nlp.stanford.edu (nlp.stanford.edu)|171.64.67.140|:443... connected.\n",
      "HTTP request sent, awaiting response... 301 Moved Permanently\n",
      "Location: http://downloads.cs.stanford.edu/nlp/data/glove.6B.zip [following]\n",
      "--2020-03-25 22:21:12--  http://downloads.cs.stanford.edu/nlp/data/glove.6B.zip\n",
      "Resolving downloads.cs.stanford.edu (downloads.cs.stanford.edu)... 171.64.64.22\n",
      "Connecting to downloads.cs.stanford.edu (downloads.cs.stanford.edu)|171.64.64.22|:80... connected.\n",
      "HTTP request sent, awaiting response... 200 OK\n",
      "Length: 862182613 (822M) [application/zip]\n",
      "Saving to: ‘glove.6B.zip’\n",
      "\n",
      "glove.6B.zip        100%[===================>] 822.24M  2.33MB/s    in 9m 58s  \n",
      "\n",
      "2020-03-25 22:31:11 (1.37 MB/s) - ‘glove.6B.zip’ saved [862182613/862182613]\n",
      "\n"
     ]
    }
   ],
   "source": [
    "# we would use standford's GloVe pre-trained word embeddings\n",
    "# download the GloVe word embeddings\n",
    "!wget http://nlp.stanford.edu/data/glove.6B.zip\n"
   ]
  },
  {
   "cell_type": "code",
   "execution_count": 38,
   "metadata": {},
   "outputs": [
    {
     "name": "stdout",
     "output_type": "stream",
     "text": [
      "Archive:  glove.6B.zip\n",
      "  inflating: glove.6B.50d.txt        \n",
      "  inflating: glove.6B.100d.txt       \n",
      "  inflating: glove.6B.200d.txt       \n",
      "  inflating: glove.6B.300d.txt       \n"
     ]
    }
   ],
   "source": [
    "!unzip glove.6B.zip\n"
   ]
  },
  {
   "cell_type": "markdown",
   "metadata": {},
   "source": [
    "Parsing the Glove embeddings"
   ]
  },
  {
   "cell_type": "code",
   "execution_count": 22,
   "metadata": {},
   "outputs": [
    {
     "name": "stdout",
     "output_type": "stream",
     "text": [
      "Found 400000 word vectors:\n"
     ]
    }
   ],
   "source": [
    "# parsing the GloVe word-embeddings file\n",
    "embeddings_index = {}\n",
    "\n",
    "f = open('glove.6B.300d.txt')\n",
    "for line in f:\n",
    "    values = line.split()\n",
    "    word = values[0]\n",
    "    coefs = np.asarray(values[1:], dtype='float32')\n",
    "    embeddings_index[word] = coefs\n",
    "f.close()\n",
    "\n",
    "print('found %s word vectors.'%len(embeddings_index))\n",
    "\n"
   ]
  },
  {
   "cell_type": "markdown",
   "metadata": {},
   "source": [
    "Preparing Glove word embedding matrix"
   ]
  },
  {
   "cell_type": "code",
   "execution_count": 23,
   "metadata": {},
   "outputs": [],
   "source": [
    "# preparing glove word embeddings matrix\n",
    "embedding_dim = 300\n",
    "\n",
    "embedding_matrix = np.zeros((max_words, embedding_dim))\n",
    "for word, i in word_index.items():\n",
    "    if i < max_words:\n",
    "        embedding_vector = embeddings_index.get(word)\n",
    "        if embedding_vector is not None:\n",
    "            embedding_matrix[i] = embedding_vector \n",
    "            # for words not in embedding index values will be zeros\n"
   ]
  },
  {
   "cell_type": "code",
   "execution_count": 24,
   "metadata": {},
   "outputs": [
    {
     "data": {
      "text/plain": [
       "(10000, 300)"
      ]
     },
     "execution_count": 24,
     "metadata": {},
     "output_type": "execute_result"
    }
   ],
   "source": [
    "embedding_matrix.shape"
   ]
  },
  {
   "cell_type": "markdown",
   "metadata": {},
   "source": [
    "### 4 - Training"
   ]
  },
  {
   "cell_type": "code",
   "execution_count": 25,
   "metadata": {},
   "outputs": [],
   "source": [
    "# a - helper function for plotting the results\n",
    "def plot_result(history):\n",
    "    acc = history.history['acc']\n",
    "    val_acc = history.history['val_acc']\n",
    "    loss = history.history['loss']\n",
    "    val_loss = history.history['val_loss']\n",
    "    f1 = history.history['f1']\n",
    "    val_f1 = history.history['val_f1']\n",
    "  \n",
    "    epochs = range(1, len(acc)+1)\n",
    "        \n",
    "    plt.plot(epochs, acc, label='Training acc')\n",
    "    plt.plot(epochs, val_acc, label='Validation acc')\n",
    "    plt.title('Training and validation accuracy')\n",
    "    plt.xlabel('epochs')\n",
    "    plt.ylabel('acc')\n",
    "    plt.legend()\n",
    "\n",
    "    plt.figure()\n",
    "\n",
    "    plt.plot(epochs, loss, label='Training loss')\n",
    "    plt.plot(epochs, val_loss, label='Validation loss')\n",
    "    plt.title('Training and validation loss')\n",
    "    plt.xlabel('epochs')\n",
    "    plt.ylabel('loss')\n",
    "    plt.legend()\n",
    "\n",
    "    plt.figure()\n",
    "\n",
    "    plt.plot(epochs, f1, label='Training f-measure')\n",
    "    plt.plot(epochs, val_f1, label='Validation f-measure')\n",
    "    plt.title('Training and validation f-measure')\n",
    "    plt.xlabel('epochs')\n",
    "    plt.ylabel('f1')\n",
    "    plt.legend()\n",
    "\n",
    "    plt.show()\n",
    "    "
   ]
  },
  {
   "cell_type": "code",
   "execution_count": null,
   "metadata": {},
   "outputs": [],
   "source": [
    "# b - helper for computing f1-measure as a metric\n",
    "def f1(y_true, y_pred):\n",
    "    def recall(y_true, y_pred):\n",
    "        \"\"\"Recall metric.\n",
    "\n",
    "        Only computes a batch-wise average of recall.\n",
    "\n",
    "        Computes the recall, a metric for multi-label classification of\n",
    "        how many relevant items are selected.\n",
    "        \"\"\"\n",
    "        true_positives = K.sum(K.round(K.clip(y_true * y_pred, 0, 1)))\n",
    "        possible_positives = K.sum(K.round(K.clip(y_true, 0, 1)))\n",
    "        recall = true_positives / (possible_positives + K.epsilon())\n",
    "        return recall\n",
    "\n",
    "    def precision(y_true, y_pred):\n",
    "        \"\"\"Precision metric.\n",
    "\n",
    "        Only computes a batch-wise average of precision.\n",
    "\n",
    "        Computes the precision, a metric for multi-label classification of\n",
    "        how many selected items are relevant.\n",
    "        \"\"\"\n",
    "        true_positives = K.sum(K.round(K.clip(y_true * y_pred, 0, 1)))\n",
    "        predicted_positives = K.sum(K.round(K.clip(y_pred, 0, 1)))\n",
    "        precision = true_positives / (predicted_positives + K.epsilon())\n",
    "        return precision\n",
    "    precision = precision(y_true, y_pred)\n",
    "    recall = recall(y_true, y_pred)\n",
    "    return 2*((precision*recall)/(precision+recall+K.epsilon()))\n"
   ]
  },
  {
   "cell_type": "markdown",
   "metadata": {},
   "source": [
    "### 1 - feed-forward network with dense layers on top of embedding layer"
   ]
  },
  {
   "cell_type": "code",
   "execution_count": 302,
   "metadata": {},
   "outputs": [
    {
     "name": "stdout",
     "output_type": "stream",
     "text": [
      "_________________________________________________________________\n",
      "Layer (type)                 Output Shape              Param #   \n",
      "=================================================================\n",
      "embedding_8 (Embedding)      (None, 50, 300)           3000000   \n",
      "_________________________________________________________________\n",
      "flatten_8 (Flatten)          (None, 15000)             0         \n",
      "_________________________________________________________________\n",
      "dense_15 (Dense)             (None, 64)                960064    \n",
      "_________________________________________________________________\n",
      "dropout_8 (Dropout)          (None, 64)                0         \n",
      "_________________________________________________________________\n",
      "dense_16 (Dense)             (None, 1)                 65        \n",
      "=================================================================\n",
      "Total params: 3,960,129\n",
      "Trainable params: 3,960,129\n",
      "Non-trainable params: 0\n",
      "_________________________________________________________________\n"
     ]
    }
   ],
   "source": [
    "model = Sequential()\n",
    "model.add(Embedding(max_words, embedding_dim, input_length=maxlen))\n",
    "model.add(Flatten())\n",
    "\n",
    "model.add(Dense(64, activation='relu'))\n",
    "model.add(Dropout(0.3)) # adding regularization\n",
    "\n",
    "model.add(Dense(1, activation='sigmoid'))\n",
    "model.summary()\n"
   ]
  },
  {
   "cell_type": "code",
   "execution_count": 28,
   "metadata": {},
   "outputs": [],
   "source": [
    "e = Embedding(max_words, embedding_dim, input_length=maxlen,\\\n",
    "              weights=[embedding_matrix], trainable=False)\n"
   ]
  },
  {
   "cell_type": "code",
   "execution_count": 26,
   "metadata": {},
   "outputs": [
    {
     "name": "stdout",
     "output_type": "stream",
     "text": [
      "Requirement already satisfied: keras-self-attention in /usr/local/lib/python3.7/site-packages (0.42.0)\n",
      "Requirement already satisfied: numpy in /usr/local/lib/python3.7/site-packages (from keras-self-attention) (1.18.1)\n",
      "Requirement already satisfied: Keras in /usr/local/lib/python3.7/site-packages (from keras-self-attention) (2.2.4)\n",
      "Requirement already satisfied: pyyaml in /usr/local/lib/python3.7/site-packages (from Keras->keras-self-attention) (3.13)\n",
      "Requirement already satisfied: keras-preprocessing>=1.0.5 in /usr/local/lib/python3.7/site-packages (from Keras->keras-self-attention) (1.1.0)\n",
      "Requirement already satisfied: six>=1.9.0 in /usr/local/lib/python3.7/site-packages (from Keras->keras-self-attention) (1.12.0)\n",
      "Requirement already satisfied: keras-applications>=1.0.6 in /usr/local/lib/python3.7/site-packages (from Keras->keras-self-attention) (1.0.8)\n",
      "Requirement already satisfied: h5py in /usr/local/lib/python3.7/site-packages (from Keras->keras-self-attention) (2.9.0)\n",
      "Requirement already satisfied: scipy>=0.14 in /usr/local/lib/python3.7/site-packages (from Keras->keras-self-attention) (1.4.1)\n"
     ]
    }
   ],
   "source": [
    "import sys\n",
    "!{sys.executable} -m pip install keras-self-attention\n"
   ]
  },
  {
   "cell_type": "code",
   "execution_count": 118,
   "metadata": {},
   "outputs": [],
   "source": [
    "e = Embedding(max_words, embedding_dim, input_length=maxlen,\\\n",
    "              weights=[embedding_matrix], trainable=False)\n"
   ]
  },
  {
   "cell_type": "code",
   "execution_count": null,
   "metadata": {},
   "outputs": [],
   "source": []
  },
  {
   "cell_type": "code",
   "execution_count": 139,
   "metadata": {},
   "outputs": [
    {
     "name": "stdout",
     "output_type": "stream",
     "text": [
      "_________________________________________________________________\n",
      "Layer (type)                 Output Shape              Param #   \n",
      "=================================================================\n",
      "embedding_5 (Embedding)      (None, 50, 300)           3000000   \n",
      "_________________________________________________________________\n",
      "bidirectional_29 (Bidirectio (None, 50, 128)           186880    \n",
      "_________________________________________________________________\n",
      "flatten_49 (Flatten)         (None, 6400)              0         \n",
      "_________________________________________________________________\n",
      "dense_58 (Dense)             (None, 32)                204832    \n",
      "_________________________________________________________________\n",
      "dense_59 (Dense)             (None, 1)                 33        \n",
      "=================================================================\n",
      "Total params: 3,391,745\n",
      "Trainable params: 391,745\n",
      "Non-trainable params: 3,000,000\n",
      "_________________________________________________________________\n"
     ]
    }
   ],
   "source": [
    "# 2\n",
    "# model = Sequential()\n",
    "# model.add(e)\n",
    "# model.add(Flatten())\n",
    "\n",
    "# model.add(Dense(64, activation='relu'))\n",
    "# model.add(Dropout(0.3)) # adding regularization\n",
    "\n",
    "# model.add(Dense(1, activation='sigmoid'))\n",
    "# model.summary()\n",
    "\n",
    "\n",
    "# model = Sequential()\n",
    "# model.add(e)\n",
    "# model.add(SimpleRNN(64, dropout=0.1))\n",
    "# model.add(Dense(1, activation='sigmoid'))\n",
    "# model.summary()\n",
    "\n",
    "\n",
    "from keras_self_attention import SeqSelfAttention\n",
    "from keras.layers import Bidirectional\n",
    "\n",
    "\n",
    "# model = Sequential()\n",
    "# model.add(e)\n",
    "# model.add(Bidirectional(LSTM(64, dropout=0.1, recurrent_dropout=0.3, return_sequences=True)))\n",
    "# model.add(SeqSelfAttention(attention_activation='relu'))\n",
    "# model.add(Flatten())\n",
    "# model.add(Dense(1, activation='sigmoid'))\n",
    "# model.summary()\n",
    "\n",
    "\n",
    "model = Sequential()\n",
    "model.add(e)\n",
    "model.add(Bidirectional(LSTM(64, dropout=0.1, recurrent_dropout=0.3, return_sequences=True)))\n",
    "# model.add(SeqSelfAttention(attention_activation='relu'))\n",
    "model.add(Flatten())\n",
    "model.add(Dense(32, activation='sigmoid'))\n",
    "\n",
    "model.add(Dense(1, activation='sigmoid'))\n",
    "model.summary()\n",
    "\n",
    "\n"
   ]
  },
  {
   "cell_type": "code",
   "execution_count": 306,
   "metadata": {},
   "outputs": [],
   "source": [
    "# # load pre-trained word embeddings into the embedding layer and freeze it\n",
    "# model.layers[0].set_weights([embedding_matrix])\n",
    "# model.layers[0].trainable = False"
   ]
  },
  {
   "cell_type": "code",
   "execution_count": 140,
   "metadata": {},
   "outputs": [
    {
     "name": "stdout",
     "output_type": "stream",
     "text": [
      "Train on 175097 samples, validate on 19456 samples\n",
      "Epoch 1/10\n",
      "175097/175097 [==============================] - 198s 1ms/step - loss: 0.6653 - acc: 0.5892 - f1: 0.7332 - val_loss: 0.6597 - val_acc: 0.6021 - val_f1: 0.7274\n",
      "Epoch 2/10\n",
      "175097/175097 [==============================] - 192s 1ms/step - loss: 0.6595 - acc: 0.6003 - f1: 0.7235 - val_loss: 0.6566 - val_acc: 0.6111 - val_f1: 0.7116\n",
      "Epoch 3/10\n",
      "175097/175097 [==============================] - 196s 1ms/step - loss: 0.6561 - acc: 0.6068 - f1: 0.7198 - val_loss: 0.6637 - val_acc: 0.5942 - val_f1: 0.6454\n",
      "Epoch 4/10\n",
      "175097/175097 [==============================] - 200s 1ms/step - loss: 0.6540 - acc: 0.6103 - f1: 0.7167 - val_loss: 0.6515 - val_acc: 0.6132 - val_f1: 0.7292\n",
      "Epoch 5/10\n",
      "175097/175097 [==============================] - 421s 2ms/step - loss: 0.6524 - acc: 0.6115 - f1: 0.7172 - val_loss: 0.6529 - val_acc: 0.6108 - val_f1: 0.7332\n",
      "Epoch 6/10\n",
      "175097/175097 [==============================] - 220s 1ms/step - loss: 0.6508 - acc: 0.6135 - f1: 0.7165 - val_loss: 0.6505 - val_acc: 0.6126 - val_f1: 0.7300\n",
      "Epoch 7/10\n",
      "175097/175097 [==============================] - 233s 1ms/step - loss: 0.6491 - acc: 0.6167 - f1: 0.7167 - val_loss: 0.6498 - val_acc: 0.6142 - val_f1: 0.7308\n",
      "Epoch 8/10\n",
      "175097/175097 [==============================] - 207s 1ms/step - loss: 0.6481 - acc: 0.6181 - f1: 0.7174 - val_loss: 0.6499 - val_acc: 0.6134 - val_f1: 0.7323\n",
      "Epoch 9/10\n",
      "175097/175097 [==============================] - 209s 1ms/step - loss: 0.6468 - acc: 0.6190 - f1: 0.7168 - val_loss: 0.6487 - val_acc: 0.6186 - val_f1: 0.7263\n",
      "Epoch 10/10\n",
      "175097/175097 [==============================] - 211s 1ms/step - loss: 0.6457 - acc: 0.6209 - f1: 0.7172 - val_loss: 0.6463 - val_acc: 0.6188 - val_f1: 0.7222\n"
     ]
    }
   ],
   "source": [
    "# train the model\n",
    "model.compile(optimizer=RMSprop(lr=1e-4), loss='binary_crossentropy', metrics = ['acc', f1])\n",
    "history = model.fit(data, labels, epochs=10, batch_size=1000, validation_split=0.1)\n",
    "\n",
    "\n",
    "# model.compile(optimizer=Adagrad(lr=1e-4), loss='binary_crossentropy', metrics = ['acc', f1])\n",
    "# history = model.fit(data, labels, epochs=15, batch_size=800, validation_split=0.1)\n",
    "\n"
   ]
  },
  {
   "cell_type": "code",
   "execution_count": 142,
   "metadata": {},
   "outputs": [
    {
     "data": {
      "image/png": "[encoded data removed]",
      "text/plain": [
       "<Figure size 432x288 with 1 Axes>"
      ]
     },
     "metadata": {
      "needs_background": "light"
     },
     "output_type": "display_data"
    },
    {
     "data": {
      "image/png": "[encoded data removed]",
      "text/plain": [
       "<Figure size 432x288 with 1 Axes>"
      ]
     },
     "metadata": {
      "needs_background": "light"
     },
     "output_type": "display_data"
    },
    {
     "data": {
      "image/png": "[encoded data removed]",
      "text/plain": [
       "<Figure size 432x288 with 1 Axes>"
      ]
     },
     "metadata": {
      "needs_background": "light"
     },
     "output_type": "display_data"
    }
   ],
   "source": [
    "# plotting the results\n",
    "plot_result(history)\n"
   ]
  },
  {
   "cell_type": "code",
   "execution_count": null,
   "metadata": {},
   "outputs": [],
   "source": []
  },
  {
   "cell_type": "code",
   "execution_count": 235,
   "metadata": {},
   "outputs": [],
   "source": [
    "# # save model\n",
    "# model.save('model.h5')\n"
   ]
  },
  {
   "cell_type": "code",
   "execution_count": 236,
   "metadata": {},
   "outputs": [],
   "source": [
    "# from keras.models import load_model"
   ]
  },
  {
   "cell_type": "code",
   "execution_count": 237,
   "metadata": {},
   "outputs": [],
   "source": [
    "# model = load_model('model.h5')"
   ]
  },
  {
   "cell_type": "code",
   "execution_count": null,
   "metadata": {},
   "outputs": [],
   "source": []
  },
  {
   "cell_type": "markdown",
   "metadata": {},
   "source": [
    "### 5 - Prediction"
   ]
  },
  {
   "cell_type": "code",
   "execution_count": 143,
   "metadata": {},
   "outputs": [
    {
     "name": "stdout",
     "output_type": "stream",
     "text": [
      "_________________________________________________________________\n",
      "Layer (type)                 Output Shape              Param #   \n",
      "=================================================================\n",
      "embedding_5 (Embedding)      (None, 50, 300)           3000000   \n",
      "_________________________________________________________________\n",
      "bidirectional_29 (Bidirectio (None, 50, 128)           186880    \n",
      "_________________________________________________________________\n",
      "flatten_49 (Flatten)         (None, 6400)              0         \n",
      "_________________________________________________________________\n",
      "dense_58 (Dense)             (None, 32)                204832    \n",
      "_________________________________________________________________\n",
      "dense_59 (Dense)             (None, 1)                 33        \n",
      "=================================================================\n",
      "Total params: 3,391,745\n",
      "Trainable params: 391,745\n",
      "Non-trainable params: 3,000,000\n",
      "_________________________________________________________________\n"
     ]
    }
   ],
   "source": [
    "model.summary()"
   ]
  },
  {
   "cell_type": "code",
   "execution_count": 145,
   "metadata": {},
   "outputs": [],
   "source": [
    "### c - helper function to make a post request from our flask server\n",
    "\n",
    "def request_jokes(url, question):\n",
    "    \"\"\"\n",
    "    \"\"\"\n",
    "    \n",
    "    while True:\n",
    "        data = {'joke_title': question}\n",
    "        r = requests.post(url=url, data=data)\n",
    "        ans = [r.text]\n",
    "        if ans[0]==\"Failed\" or set(ans[0].split())==set(question.split()):\n",
    "            r = requests.post(url=url, data=data)\n",
    "            ans = [r.text]\n",
    "        else:\n",
    "            return ans\n",
    "\n",
    "### d - helper to generate jokes and classify humorous or not         \n",
    "def request_prediction(model, question):\n",
    "    \"\"\"\n",
    "    \"\"\"\n",
    "    \n",
    "    out = []\n",
    "    for i in range(len(question)):\n",
    "        \n",
    "        # data to be sent to api \n",
    "        ans = request_jokes(url=url, question=question[i])\n",
    "\n",
    "        ### tokenizing\n",
    "        tokenizer.fit_on_texts(ans)\n",
    "        token_seq = tokenizer.texts_to_sequences(ans) # text to seq\n",
    "        token_seq_pad = pad_sequences(token_seq, maxlen=maxlen) # pad seq\n",
    "\n",
    "        # process answer - after body\n",
    "        if ans[0].partition(question[i])[-1][0:8] == '\\n body:':\n",
    "            ans_jokes = ans[0].partition(question[i])[-1].partition('body: ')[-1]\n",
    "        else:\n",
    "            ans_jokes = ans[0].partition(question[i])[-1]\n",
    "\n",
    "        # concatenate contents with title + body\n",
    "        content = \"title: \" + question[i] + \" body: \" + ans_jokes\n",
    "        print(str([i+1])+\"- jokes \"+str(i+1)+\": \"+ content)\n",
    "\n",
    "        # prepare results\n",
    "        result = content, model.predict_classes(token_seq_pad)[0][0], model.predict_proba(token_seq_pad)[0][0]\n",
    "        out.append(result)\n",
    "\n",
    "    prediction_result = pd.DataFrame(out, columns=['jokes', 'is_funny', 'proba'])\n",
    "    return prediction_result\n"
   ]
  },
  {
   "cell_type": "markdown",
   "metadata": {},
   "source": [
    "Let's see 100 samples jokes titles"
   ]
  },
  {
   "cell_type": "code",
   "execution_count": 146,
   "metadata": {},
   "outputs": [],
   "source": [
    "# question (jokes titles) list setup\n",
    "question = [\"\"\"Why is it so hard to break up with a Japanese Girl? \"\"\",\n",
    "            \"\"\"Why did the chicken cross the road? \"\"\",\n",
    "            \"\"\"Why did the producers of 007 films use government debt to fund their newest film? \"\"\",\n",
    "            \"\"\"I feel so bad for the necrophiliac's sister. \"\"\",\n",
    "            \"\"\"What's the difference between you and a Calendar? \"\"\",\n",
    "            \"\"\"This guy proposed to his wife after walking away from a terrible car accident without a scratch. He said \"Life's too short and it can end at any time.\" \"\"\",\n",
    "            \"\"\"Roses are red. \"\"\",\n",
    "            \"\"\"These reports of a major snowstorm hitting the Northeast don't concern me. \"\"\",\n",
    "            \"\"\"Those ads actually ran. \"\"\",\n",
    "            \"\"\"Burnt my Hawaiian pizza today. \"\"\",\n",
    "            \"\"\"I hate how you cant even say black paint anymore. \"\"\",\n",
    "            \"\"\"What's the difference between a Jew in Nazi Germany and pizza ? \"\"\", \n",
    "            \"\"\"I recently went to America.... \"\"\",\n",
    "            \"\"\"Brian raises his hand and says, “He’s in Heaven.” \"\"\",\n",
    "            \"\"\"You hear about the University book store worker who was charged for stealing $20,000 worth of books? \"\"\",\n",
    "            \"\"\"Why is it unknown on how pterodactyls urinate especially during flight? \"\"\",\n",
    "            \"\"\"Why women need legs? \"\"\",\n",
    "            \"\"\"I walked into a PETA adoption center and the receptionist asked me what kind of dog I wanted \"\"\",\n",
    "            \"\"\"How did TV studios make words appear on screen before computers? \"\"\",\n",
    "            \"\"\"How do you find Will Smith in the snow? \"\"\", \n",
    "            \"\"\"Remember when you were a kid and when you cried your parents said, \"I'll give you a reason to cry\"? \"\"\",\n",
    "            \"\"\"Remember, you can't spell Valentine's Day without... \"\"\",\n",
    "            \"\"\"Happy try not to jump off a bridge day! \"\"\",\n",
    "            \"\"\"My boss said to me, \"you're the worst train driver ever. How many have you derailed this year?\" \"\"\",\n",
    "            \"\"\"If I get a bird I'm naming it Trump \"\"\",\n",
    "            \"\"\"I was going to get a headjob for Valentines Day \"\"\",\n",
    "            \"\"\"A mother went into a coma after giving birth to twins \"\"\",\n",
    "            \"\"\"What do you call an exercise machine with a strobe light? \"\"\",\n",
    "            \"\"\"My dad has a heart of a lion \"\"\",\n",
    "            \"\"\"Smaller babies may be delivered by a stork. \"\"\",\n",
    "            \"\"\"A monkey is getting stoned in a zoo... \"\"\",\n",
    "            \"\"\"I've translated a popular Russian joke to English , wanna hear you reaction )) \"\"\",\n",
    "            \"\"\"What did the mommy bean say to her son when he asked for money? \"\"\",\n",
    "            \"\"\"When You Break Up At 11:59 Tonight \"\"\",\n",
    "            \"\"\"I wanted to buy an Audi. \"\"\",\n",
    "            \"\"\"I'm Trying to Remember The Name of A Song \"\"\",\n",
    "            \"\"\"What are minorities? \"\"\",\n",
    "            \"\"\"Did you hear that Donald Trump is technically a plant? \"\"\",\n",
    "            \"\"\"i had trouble swallowing a viagra last night \"\"\",\n",
    "            \"\"\"What is the king of all school supplies? \"\"\",\n",
    "            \"\"\"A rugby player was hurt very badly during a scrum and he had both of his ears ripped off... \"\"\",\n",
    "            \"\"\"A man was in his front yard mowing grass when his attractive blonde female !! \"\"\",\n",
    "            \"\"\"A woman runs into a doctor’s office and says “DOCTOR! DOCTOR! You have to help me! Everywhere I touch on my body it hurts!” \"\"\",\n",
    "            \"\"\"Why did the producers of 007 films use government debt to fund their newest film? \"\"\",\n",
    "            \"\"\"Pocket empty day ! \"\"\",\n",
    "            \"\"\"I want to see that new movie coming out with Scarlett Johannson… \"\"\",\n",
    "            \"\"\"Man gets lost in the desert. \"\"\",\n",
    "            \"\"\"Site of the 2017 Dane county massacre. \"\"\",\n",
    "            \"\"\"He fucked what? \"\"\",\n",
    "            \"\"\"My wife wants to eat somewhere shes never eaten before for V-Day \"\"\",\n",
    "            \"\"\"I was offered sex with a 21 yr old today \"\"\",\n",
    "            \"\"\"3 women talk \"\"\",\n",
    "            \"\"\"There are two types of people \"\"\",\n",
    "            \"\"\"Why did the computer squeak? \"\"\",\n",
    "            \"\"\"i found a place where the recycling rate is 98%. \"\"\",\n",
    "            \"\"\"Valentine's day fights \"\"\",\n",
    "            \"\"\"I feel so bad for the necrophiliac's sister \"\"\",\n",
    "            \"\"\"Julian Lennon messed up breakfast \"\"\",\n",
    "            \"\"\"I hear the Mexicans are planning an attack on America \"\"\",\n",
    "            \"\"\"I bought my friend an elephant for their room. \"\"\",\n",
    "            \"\"\"You're laughing because I'm laughing. \"\"\",\n",
    "            \"\"\"his guy proposed to his wife after walking away from a terrible car accident without a scratch. He said \"Life's too short and it can end at any time.\" \"\"\",\n",
    "            \"\"\"First woman on mars. \"\"\",\n",
    "            \"\"\"Bad Advertisement \"\"\",\n",
    "            \"\"\"Those ads actually ran. \"\"\",\n",
    "            \"\"\"Why is the camel called the ship of the desert? \"\"\",\n",
    "            \"\"\"A Man Gets Really Drunk \"\"\",\n",
    "            \"\"\"What's the best thing about living in Switzerland? \"\"\",\n",
    "            \"\"\"A milestone \"\"\",\n",
    "            \"\"\"What part of the house got busted for drugs? \"\"\",\n",
    "            \"\"\"Relationships are a lot like algebra. \"\"\",\n",
    "            \"\"\"If Harry Potter were about pirates: \"\"\",\n",
    "            \"\"\"US Politics are \"\"\",\n",
    "            \"\"\"What's a ninjas favorite drink? \"\"\",\n",
    "            \"\"\"I used to hate the ballet \"\"\",\n",
    "            \"\"\"Life is like a diploma \"\"\",\n",
    "            \"\"\" How do you encourage a bear to eat cheese? \"\"\",\n",
    "            \"\"\"Why was the orchestra teacher angry? \"\"\",\n",
    "            \"\"\"A fat man is watching television \"\"\",\n",
    "            \"\"\"In the beginning, God created the dog. \"\"\",\n",
    "            \"\"\"What's the quickest way to get in touch with your inner self? \"\"\",\n",
    "            \"\"\"What do you get when you combine Richard Simmons with Stephen Hawking? \"\"\",\n",
    "            \"\"\"A marketing executive walks into a bar \"\"\",\n",
    "            \"\"\"What do you call the presidential toilet? \"\"\",\n",
    "            \"\"\"Why is Tumblr bad for you? \"\"\",\n",
    "            \"\"\"What is the shittiest part of Object Oriented Programming? \"\"\",\n",
    "            \"\"\"Dad Joke \"\"\",\n",
    "            \"\"\"I love open-minded people. \"\"\",\n",
    "            \"\"\"Who came first. The chicken or the egg \"\"\",\n",
    "            \"\"\"Where do you find a dog with no legs? \"\"\",\n",
    "            \"\"\"What's the deal with airline food? \"\"\",\n",
    "            \"\"\"I like my soda like I like my women \"\"\",\n",
    "            \"\"\"What is the worst icebreaker? \"\"\",\n",
    "            \"\"\"What are your thoughts on monorails? \"\"\",\n",
    "            \"\"\"What's a pirate's favorite letter? \"\"\",\n",
    "            \"\"\"What do you call a rabbit roaming with a pack of lions? \"\"\",\n",
    "            \"\"\"How do you make a tissue dance? \"\"\",\n",
    "            \"\"\"I just got a haircut, but I'm not sure I like it. \"\"\",\n",
    "            \"\"\"How do you make Holy Water? \"\"\",\n",
    "            \"\"\"What's the most dangerous animal in the world? \"\"\"       \n",
    "            \n",
    "            \n",
    "           ]\n"
   ]
  },
  {
   "cell_type": "code",
   "execution_count": null,
   "metadata": {},
   "outputs": [],
   "source": []
  },
  {
   "cell_type": "code",
   "execution_count": 53,
   "metadata": {},
   "outputs": [],
   "source": [
    "# question = [\"\"\"Why is it so hard to break up with a Japanese Girl? \"\"\",\n",
    "#             \"\"\"Why did the chicken cross the road? \"\"\",\n",
    "#             \"\"\"I feel so bad for the necrophiliac's sister. \"\"\",\n",
    "#             \"\"\"What's the difference between you and a Calendar? \"\"\",\n",
    "#             \"\"\"These reports of a major snowstorm hitting the Northeast don't concern me. \"\"\",\n",
    "#             \"\"\"Those ads actually ran. \"\"\",\n",
    "#             \"\"\"Burnt my Hawaiian pizza today. \"\"\",\n",
    "#             \"\"\"I hate how you cant even say black paint anymore. \"\"\",   \n",
    "#            ]\n"
   ]
  },
  {
   "cell_type": "code",
   "execution_count": 154,
   "metadata": {},
   "outputs": [
    {
     "name": "stdout",
     "output_type": "stream",
     "text": [
      "total number of jokes: 100\n"
     ]
    }
   ],
   "source": [
    "# check\n",
    "print(\"total number of jokes:\", len(question))\n"
   ]
  },
  {
   "cell_type": "markdown",
   "metadata": {},
   "source": [
    "##### open flask app first and run below for the preudction results"
   ]
  },
  {
   "cell_type": "code",
   "execution_count": 148,
   "metadata": {},
   "outputs": [
    {
     "name": "stdout",
     "output_type": "stream",
     "text": [
      "[1]- jokes 1: title: Why is it so hard to break up with a Japanese Girl?  body: \n",
      "\n",
      "A: A) I feel obligated\n",
      "[2]- jokes 2: title: Why did the chicken cross the road?  body: \n",
      "\n",
      "Why did the egg cross the road? \n",
      "\n",
      "Because the other egg had a penis.\n",
      "[3]- jokes 3: title: Why did the producers of 007 films use government debt to fund their newest film?  body:  \n",
      "\n",
      "Because the film was in debt to the government.\n",
      "[4]- jokes 4: title: I feel so bad for the necrophiliac's sister.  body:  You know how I feel when she dies in a car accident?\"  She said, \"Well, I should have paid attention that time.\"\n",
      "[5]- jokes 5: title: What's the difference between you and a Calendar?  body: \n",
      "\n",
      "I can't just let you out of my sight.\n",
      "[6]- jokes 6: title: This guy proposed to his wife after walking away from a terrible car accident without a scratch. He said \"Life's too short and it can end at any time.\"  body: \n",
      "So he threw a huge party and invited everyone in the world, but no one knew he was gay and he was worried that others wouldn't see him. \n",
      "I got the same exact reaction. I think I should tell him this. Just in case he makes the same mistake again.\n",
      "[7]- jokes 7: title: Roses are red.  body: \n",
      "\n",
      "The sky is blue. \n",
      "\n",
      "You're in trouble. \n",
      "\n",
      "\n",
      "\n",
      "\n",
      "\n",
      "\"You've got to be kidding me! \n",
      "\n",
      "I feel like crying.\"\n",
      "[8]- jokes 8: title: These reports of a major snowstorm hitting the Northeast don't concern me.  body:  My house is in the middle of nowhere and I live far from a major city.\n",
      "\n",
      "I don't even think of it. I just stare at the ground.  I don't even care, because there's nothing to see here.\n",
      "[9]- jokes 9: title: Those ads actually ran.  body:  The company that ran the ads, however, told us that there was no need for them, as they were only appearing in the early evening, and that the ads were \"stylized\" and \"tense.\"  What a shame, because I would have loved to see a little more drama.\n",
      "\n",
      "I'll be damned if I'm going to watch this show again.\n",
      "[10]- jokes 10: title: Burnt my Hawaiian pizza today.  body:  They said it was too hot\".  \n",
      "\n",
      "The chef says \"Sorry, it tastes like shit\".\n",
      "\n",
      "My friend says \"you're fired!\".\n",
      "\n",
      "I say \"no no no, it tastes like shit\".\n",
      "\n",
      "I get fired on a Saturday.\n",
      "[11]- jokes 11: title: I hate how you cant even say black paint anymore.  body:  But at least you were good at it, and you can tell me what it feels like to be black in this country now that you are in the position of my parents.  You must be so angry with us.\n",
      "[12]- jokes 12: title: What's the difference between a Jew in Nazi Germany and pizza ?  body: \n",
      "\n",
      "A) You can't find Nazis in pizza\n",
      "\n",
      "B) I know a few Nazis in pizza\n",
      "[13]- jokes 13: title: I recently went to America....  body: \n",
      "\n",
      "I had a great time.\n",
      "[14]- jokes 14: title: Brian raises his hand and says, “He’s in Heaven.”  body: \n",
      "\n",
      "“No...” the other guy says. \"He’s in Hell.”\n",
      "[15]- jokes 15: title: You hear about the University book store worker who was charged for stealing $20,000 worth of books?  body: \n",
      "\n",
      "He got off for doing nothing.\n",
      "[16]- jokes 16: title: Why is it unknown on how pterodactyls urinate especially during flight?  body: \n",
      "\n",
      "P.\n",
      "\n",
      "Pteridactyls urinate on their backs.\n",
      "[17]- jokes 17: title: Why women need legs?  body:  How is that a problem?\n",
      "\n",
      "Because you couldn't see my point.\n",
      "[18]- jokes 18: title: I walked into a PETA adoption center and the receptionist asked me what kind of dog I wanted  body: \n",
      "and I said, \"I want a bulldog.\"\n",
      "I was told that this is a very rare and wonderful breed. \n",
      "I am very surprised and very happy to do this. \n",
      "All I have to do is take off this coat and put it on the man who loves me \n",
      "and he is going to love me even more \n",
      "and I will become a Bulldog.\n",
      "[19]- jokes 19: title: How did TV studios make words appear on screen before computers?  body: \n",
      "\n",
      "(I'm sorry)\n",
      "[20]- jokes 20: title: How do you find Will Smith in the snow?  body:  The answer is: you don't.\" - Bob the Builder\n",
      "[21]- jokes 21: title: Remember when you were a kid and when you cried your parents said, \"I'll give you a reason to cry\"?  body: \n",
      "\n",
      "Well, your mother said, \"You don't understand, it's only the two of you!\"\n",
      "\n",
      "Your father said, \"Let's go play in the park.\"\n",
      "[22]- jokes 22: title: Remember, you can't spell Valentine's Day without...  body: \n",
      "\n",
      "...I'm an idiot.\"\n",
      "[23]- jokes 23: title: Happy try not to jump off a bridge day!  body: \n",
      "\n",
      "\n",
      "(Slightly more serious).\n",
      "[24]- jokes 24: title: My boss said to me, \"you're the worst train driver ever. How many have you derailed this year?\"  body:  I replied, \"I'm gonna let the woman out of the car.\"  My boss said, \"I'm not sure what you would have him say about a woman out of the car, but it's definitely better than having a train derailed every day at the station.\"\n",
      "[25]- jokes 25: title: If I get a bird I'm naming it Trump  body: \n",
      "I'm like a monkey in a cage\n",
      "[26]- jokes 26: title: I was going to get a headjob for Valentines Day  body: \n",
      "\n",
      "I didn't get one, and I'm not sure if I should have gotten one at all\n",
      "[27]- jokes 27: title: A mother went into a coma after giving birth to twins  body: \n",
      "One was born with 3 arms and the other two were dead.\n",
      "[28]- jokes 28: title: What do you call an exercise machine with a strobe light?  body:  \n",
      "\n",
      "The light-beamer\n",
      "[29]- jokes 29: title: My dad has a heart of a lion  body: !\"\n",
      "\n",
      "\n",
      "\"Okay fine!\" says the kid. \"Just stop laughing because it's going nowhere\"\n",
      "[30]- jokes 30: title: Smaller babies may be delivered by a stork.  body: \n",
      "\n",
      "The stork is an old family tradition and is not currently being performed in the USA.\n",
      "[31]- jokes 31: title: A monkey is getting stoned in a zoo...  body: \n",
      "\n",
      "the monkey turns to the guy next to him and says \"hey, we're not getting any rocks off your head for you.\"\n",
      "\n",
      "the guy replies \"no shit, I already tried it once!\"\n",
      "[32]- jokes 32: title: I've translated a popular Russian joke to English , wanna hear you reaction ))  body: \n",
      "\n",
      "(\n",
      "\n",
      "\"I thought I had a good job\"\n",
      "\n",
      "\"I thought I was a good candidate\"\n",
      "\n",
      "\"My name is Peter and I work at a small cheese factory here\"\n",
      "\n",
      ")\n",
      "[33]- jokes 33: title: What did the mommy bean say to her son when he asked for money?  body: \n",
      "\n",
      "\"I think the car is a bit old\"\n",
      "[34]- jokes 34: title: When You Break Up At 11:59 Tonight  body: !\"\n",
      "[35]- jokes 35: title: I wanted to buy an Audi.  body:  I was like, 'Yo, are you an Audi?\"\n",
      "\n",
      "He said, \"No, I'm not. I'm the boss of the car dealership.\"\n",
      "\n",
      "\"Are you an Uber?\" \n",
      "\n",
      "\"No. I'm the driver.\"\n",
      "[36]- jokes 36: title: I'm Trying to Remember The Name of A Song  body: \n",
      " body: A baby walks into a bar.\n",
      "\n",
      "The bartender says: \"Who's there?\"\n",
      "\n",
      "The boy replies: \"Sorry, my name is A.\"\n",
      "[37]- jokes 37: title: What are minorities?  body: \n",
      "\n",
      "(A black guy tells a white guy, \"It's okay, I'm gonna marry you.\" The white guy says \"That's okay, I'm gonna marry you! I'm gonna marry you!\" The black guy says \"Oh, that's it. You want to marry me?\")\n",
      "[38]- jokes 38: title: Did you hear that Donald Trump is technically a plant?  body:  \n",
      "\n",
      "He's a puppet!\n",
      "[39]- jokes 39: title: i had trouble swallowing a viagra last night  body:  but she does have a vagina.\n",
      "[40]- jokes 40: title: What is the king of all school supplies?  body: \n",
      "\n",
      "*\"Teacher\"* \n",
      "\n",
      "Teacher : \"There is no teacher, we are all kids.\" \n",
      "\n",
      "Student : \"I am the king of all school supplies...\"\n",
      "[41]- jokes 41: title: A rugby player was hurt very badly during a scrum and he had both of his ears ripped off...  body:  He was in hospital for several days.  \n",
      "\n",
      "Then he got married!\n",
      "[42]- jokes 42: title: A man was in his front yard mowing grass when his attractive blonde female !!  body: \n",
      " friend came walking along with a huge erection !! \n",
      "\n",
      "\n",
      "They went over to the man's yard and started to kiss and make love to him as he mowed the lawn.\n",
      "\n",
      "\n",
      "Then the blonde friend walked to the door and looked at the man and said \"How would you like to have a dog.\"\n",
      "[43]- jokes 43: title: A woman runs into a doctor’s office and says “DOCTOR! DOCTOR! You have to help me! Everywhere I touch on my body it hurts!”  body: \n",
      "\n",
      "The doctor says “I am sorry, you must take your pain medication, I am sorry “but you must take it everyday if you want to live.”\n",
      "\n",
      "The woman says “I can't afford that, I am in a wheelchair. I don’t know what to do, I can’t be a nice person and tell doctor how I feel.”\n",
      "[44]- jokes 44: title: Why did the producers of 007 films use government debt to fund their newest film?  body: \n",
      "\n",
      "It was Bond.\n"
     ]
    },
    {
     "name": "stdout",
     "output_type": "stream",
     "text": [
      "[45]- jokes 45: title: Pocket empty day !  body: \n",
      "\n",
      "\n",
      "\"What do you do with all these tourists?\" \n",
      "\n",
      "\"I make them laugh.\"\n",
      "[46]- jokes 46: title: I want to see that new movie coming out with Scarlett Johannson…  body: \n",
      "\n",
      "Then, I'm sorry I have a horrible car.\n",
      "[47]- jokes 47: title: Man gets lost in the desert.  body: \n",
      "\n",
      "The husband tells his wife, \"I don't know where I am, but I'm not going to get lost anymore\"\n",
      "\n",
      "\"This ain't my fault\" she answers\n",
      "\n",
      "\"You're not\" says the husband\"I'm just a guy who wants to be married and I don't even know where I am\"\n",
      "[48]- jokes 48: title: Site of the 2017 Dane county massacre.  body:  Source: the local newspaper.\n",
      "[49]- jokes 49: title: He fucked what?  body: \n",
      "\n",
      "A cinderblock.\n",
      "[50]- jokes 50: title: My wife wants to eat somewhere shes never eaten before for V-Day  body: !\"\n",
      "\n",
      "\n",
      "\"No Problem!\" says the man.\n",
      "[51]- jokes 51: title: I was offered sex with a 21 yr old today  body: \n",
      "Body: \n",
      "\n",
      "I refused.\n",
      "[52]- jokes 52: title: 3 women talk  body: \n",
      "\n",
      "2 women talk \n",
      "\n",
      "3 women talk \n",
      "\n",
      "2 women talk \n",
      "\n",
      "3 women talk \n",
      "\n",
      "1 wife talk \n",
      "\n",
      "1 wife talk \n",
      "\n",
      "1 wife talk \n",
      "\n",
      "1 wife talk \n",
      "\n",
      "1 wife talk \n",
      "\n",
      "1 wife talk \n",
      "\n",
      "1 wife talk\n",
      "[53]- jokes 53: title: There are two types of people  body:  - those who can see all the colors of the rainbow, and those who can't\"\n",
      "\n",
      "The blonde responds: \"I'm not saying that you're not beautiful, I'm just saying that all the other people in the world are not beautiful, either.\"\n",
      "[54]- jokes 54: title: Why did the computer squeak?  body: \n",
      "\n",
      "The computer just couldn't find a job to replace its tires. \n",
      "\n",
      "The computer is a bad user.\n",
      "[55]- jokes 55: title: i found a place where the recycling rate is 98%.  body: \n",
      "\n",
      "The person told her that she made a horrible mistake and will take a year off.\n",
      "\n",
      "\"No, it is just the way it is,\" she replied. \n",
      "\n",
      "She then told the guy to tell his boss.\n",
      "[56]- jokes 56: title: Valentine's day fights  body: \n",
      "And the guys say, You fuck her on her birthday!!\n",
      "[57]- jokes 57: title: I feel so bad for the necrophiliac's sister  body: \n",
      "\n",
      "\n",
      "I hope they're out of jail soon\n",
      "[58]- jokes 58: title: Julian Lennon messed up breakfast  body: \n",
      " body: He had a stroke of luck.\n",
      "[59]- jokes 59: title: I hear the Mexicans are planning an attack on America  body: !\"\n",
      "[60]- jokes 60: title: I bought my friend an elephant for their room.  body:  \n",
      "\n",
      "\"No no, I said,\" she said, \"I'm sorry.\"  \n",
      "\"No!\" he exclaimed, \"that's why you called an elephant for your bed.\"\n",
      "[61]- jokes 61: title: You're laughing because I'm laughing.  body: \n",
      "\n",
      "\n",
      "\n",
      "\n",
      "But now I'm very very very sad.\n",
      "[62]- jokes 62: title: his guy proposed to his wife after walking away from a terrible car accident without a scratch. He said \"Life's too short and it can end at any time.\"  body:  \n",
      "\n",
      "He then proceeded to go on a rampage. He pulled down the blinds and began pounding his chest, screaming and yelling. He finally managed to get the garage door open, then screamed like a maniac for the car.  \n",
      "\n",
      "He then began screaming, \"I'm going to kill myself!\" Then he stopped.\n",
      "[63]- jokes 63: title: First woman on mars.  body: \n",
      "\n",
      "The rest of us just watch and wait.\n",
      "\n",
      "The woman is the first one to reach the first man. \n",
      "\n",
      "The man says to her, \"Why are you so beautiful? \n",
      "\n",
      "She says, \"Because I'm the only man alive who isn't retarded.\"\n",
      "\n",
      "The man says, \"Yeah you are.\"\n",
      "\n",
      "I wish I could be like that.\n",
      "[64]- jokes 64: title: Bad Advertisement  body: \n",
      "\n",
      "The guy says, \"I'm a gay guy.\"\n",
      "\n",
      "\"You're straight!\" the guy answers.\n",
      "\n",
      "\"You're gay!\" yells the man.\n",
      "\n",
      "The bartender gets angry and calls the manager over.\n",
      "\n",
      "\"Are you fucking kidding me, you're a homosexual!'' yells the manager.\n",
      "\n",
      "The bartender looks at him and says, \"Yeah,\" and leaves.\n",
      "[65]- jokes 65: title: Those ads actually ran.  body: \n",
      "\n",
      "*\n",
      "[66]- jokes 66: title: Why is the camel called the ship of the desert?  body: \n",
      "\n",
      "The boat of the desert is the camel.\n",
      "[67]- jokes 67: title: A Man Gets Really Drunk  body: \n",
      "\n",
      "A man wakes up one morning and decides he's really drunk. He goes to a bar to meet a girl, but she's too drunk to speak and he can't find his keys. He calls a cab and calls his friend.\n",
      "\n",
      "\"I've got the keys,\" says the cab driver. \"I think I'll be back in about an hour.\"\n",
      "[68]- jokes 68: title: What's the best thing about living in Switzerland?  body: \n",
      "\n",
      "The best thing about being a refugee is having nothing to do with the other people.\n",
      "[69]- jokes 69: title: A milestone  body: \n",
      "\n",
      "A woman walks into a bar \n",
      "\n",
      "\"Can I have a drink?\" she asks the bartender\n",
      "\n",
      "The bartender, not knowing how to answer, says \"sorry, we only serve a few beers a day.\"\n",
      "\n",
      "The woman, upset, goes back to the bar and asks the bartender again \"What is it?\"\n",
      "\"Well, I'm afraid not, it's closed. I was trying to get a drink.\"\n",
      "[70]- jokes 70: title: What part of the house got busted for drugs?  body: \n",
      "\n",
      "The neighbor farted and it came out of her mouth.\n",
      "\n",
      "The neighbor farted and it came out of the neighbor's mouth.\n",
      "\n",
      "The neighbor farted and it came out of everyone's mouths.\n",
      "\n",
      "The neighbor farted and it came out of nothing.\n",
      "\n",
      "How do you stop a fart?\n",
      "\n",
      "Throw it at the door.\n",
      "[71]- jokes 71: title: Relationships are a lot like algebra.  body:  \n",
      "\n",
      "For example, I like my women like I like my computers.\n",
      "\n",
      "If you like your women like I like my computers, you like your women like I like my computers.\n",
      "\n",
      "And if you like your women like I like my computers, you are a man.\n",
      "[72]- jokes 72: title: If Harry Potter were about pirates:  body:  he'd be a huge wench.\"\n",
      "[73]- jokes 73: title: US Politics are  body: \n",
      "\n",
      "Hateful.\n",
      "\n",
      "If you can name 10 political figures that you hate, \n",
      "\n",
      "Which of them has a name that means something \n",
      "\n",
      "That I may be able to understand?\n",
      "[74]- jokes 74: title: What's a ninjas favorite drink?  body: \n",
      "\n",
      "A bottle of beer.\n",
      "[75]- jokes 75: title: I used to hate the ballet  body: !\"\n",
      "[76]- jokes 76: title: Life is like a diploma  body: \n",
      " and the hardest part is finding out you can't take the exam\n",
      "[77]- jokes 77: title:  How do you encourage a bear to eat cheese?  body: \n",
      "[78]- jokes 78: title: Why was the orchestra teacher angry?  body: \n",
      "\n",
      "\n",
      "He was angry that his students were unable to sing 'Auld Lang Syne'.\n",
      "[79]- jokes 79: title: A fat man is watching television  body: \n",
      "the doctor says \"You know you need to stop seeing this guy\"\n",
      "and the fat man says \"well I see all the time\"\n",
      "the doctor replies \"I'll tell you why, it's fat people's fault\"\n",
      "\n",
      "so he tells the fat man \"we'll all starve to death until you stop.\"\n",
      "\n",
      "the fat man replies \"you know what?\n",
      "I just can't take it\"\n",
      "[80]- jokes 80: title: In the beginning, God created the dog.  body: \n",
      "He told him to run and to be faithful. \n",
      "After three days, the dog ran and said, \"I did it! I ran and did it!\" \n",
      "Jesus said, \"Your faith was great, child. You did what you were told. God will make you great again.\"\n",
      "\"Yeah, what kind of a dog are you?\"\n",
      "\"I'm a LADEE!\"\n",
      "[81]- jokes 81: title: What's the quickest way to get in touch with your inner self?  body: \n",
      "\n",
      "A.\n",
      "[82]- jokes 82: title: What do you get when you combine Richard Simmons with Stephen Hawking?  body: \n",
      "\n",
      "\n",
      "\n",
      "A black hole.\n",
      "[83]- jokes 83: title: A marketing executive walks into a bar  body:  and asks the bartender if there is something he could help him out with. The bartender says \"I can't help you with that one, but I'll do something I can do for you.\" \n",
      "\n",
      "\"I'm not trying to cheat on you, I just thought you might like this\".\n",
      "\n",
      "\"I'm sorry, but you're going to have to suck this cock\".\n",
      "[84]- jokes 84: title: What do you call the presidential toilet?  body:  The Presidential E-Meter!\n",
      "[85]- jokes 85: title: Why is Tumblr bad for you?  body: \n",
      "\n",
      "\n",
      "\n",
      "\n",
      "\n",
      "Because you're fat.\n",
      "[86]- jokes 86: title: What is the shittiest part of Object Oriented Programming?  body: \n",
      "\n",
      "...\n",
      "[87]- jokes 87: title: Dad Joke  body: \n",
      "\n",
      "When you go to the doctor, he asks you: \"What did the doctor say when he noticed you have too much sugar?\"\n",
      "\n",
      "\n",
      "\n",
      "You look at him with a grin and, \"You idiot, you never saw this coming!\"\n",
      "[88]- jokes 88: title: I love open-minded people.  body:  I love people who are open-minded.  I really love people who are open-minded.\"\n",
      "\n",
      "But the man who got it was a liberal, so they had a little quarrel.\n",
      "[89]- jokes 89: title: Who came first. The chicken or the egg  body: ?\"\n",
      "\n",
      "The man replies, \"I came first.\n",
      "\n",
      "I came when you came.\n",
      "\n",
      "I came when you came.\n",
      "\n",
      "I came when you came,\n",
      "\n",
      "but you came when I came.\"\n",
      "\n",
      "The woman smiles and says, \"Wow you really are the man of your words.\"\n"
     ]
    },
    {
     "name": "stdout",
     "output_type": "stream",
     "text": [
      "[90]- jokes 90: title: Where do you find a dog with no legs?  body: \n",
      "\n",
      "(Not sure how to answer that, sorry.)\n",
      "\n",
      "Source(s): [1]\n",
      "[91]- jokes 91: title: What's the deal with airline food?  body:  Everyone knows it's just gravy\n",
      "[92]- jokes 92: title: I like my soda like I like my women  body: \n",
      "\n",
      "'Cause when you're done I'm gonna go to your house and I'm gonna tell your wife: \"I'm gonna fuck your daughter!\"\n",
      "[93]- jokes 93: title: What is the worst icebreaker?  body:  \n",
      "\n",
      "The best icebreaker is also the worst.  \n",
      "\n",
      "Why does the icebreaker drink so much?  \n",
      "\n",
      "Because it has been a week since i left and its still early.  \n",
      "\n",
      "How do you keep a good icebreaker from getting lost?  \n",
      "\n",
      "By telling it the exact name of your hotel and asking it to tell the exact address.\n",
      "[94]- jokes 94: title: What are your thoughts on monorails?  body: \n",
      "\n",
      "I'm a car person.\n",
      "[95]- jokes 95: title: What's a pirate's favorite letter?  body: \n",
      "\n",
      "\"BON.\"\n",
      "[96]- jokes 96: title: What do you call a rabbit roaming with a pack of lions?  body: \n",
      "\n",
      "You're just about to know.\n",
      "[97]- jokes 97: title: How do you make a tissue dance?  body: \n",
      "\n",
      "Try this: take a tissue and roll it around on the floor.\n",
      "[98]- jokes 98: title: I just got a haircut, but I'm not sure I like it.  body:   \n",
      "\n",
      "*If you read the comments section on this article, you'll see what I meant.\n",
      "[99]- jokes 99: title: How do you make Holy Water?  body: \n",
      "\n",
      "You burn it, don't pick it up, and hang it up on your fridge.\n",
      "[100]- jokes 100: title: What's the most dangerous animal in the world?  body: \n",
      "\n",
      "A lion.\n"
     ]
    }
   ],
   "source": [
    "# flask server url\n",
    "url = \"http://127.0.0.1:5000/generate\"\n",
    "\n",
    "# make predictions\n",
    "prediction_result = request_prediction(model, question)\n"
   ]
  },
  {
   "cell_type": "code",
   "execution_count": 149,
   "metadata": {},
   "outputs": [
    {
     "data": {
      "text/html": [
       "<div>\n",
       "<style scoped>\n",
       "    .dataframe tbody tr th:only-of-type {\n",
       "        vertical-align: middle;\n",
       "    }\n",
       "\n",
       "    .dataframe tbody tr th {\n",
       "        vertical-align: top;\n",
       "    }\n",
       "\n",
       "    .dataframe thead th {\n",
       "        text-align: right;\n",
       "    }\n",
       "</style>\n",
       "<table border=\"1\" class=\"dataframe\">\n",
       "  <thead>\n",
       "    <tr style=\"text-align: right;\">\n",
       "      <th></th>\n",
       "      <th>jokes</th>\n",
       "      <th>is_funny</th>\n",
       "      <th>proba</th>\n",
       "    </tr>\n",
       "  </thead>\n",
       "  <tbody>\n",
       "    <tr>\n",
       "      <th>0</th>\n",
       "      <td>title: Why is it so hard to break up with a Ja...</td>\n",
       "      <td>0</td>\n",
       "      <td>0.485252</td>\n",
       "    </tr>\n",
       "    <tr>\n",
       "      <th>1</th>\n",
       "      <td>title: Why did the chicken cross the road?  bo...</td>\n",
       "      <td>0</td>\n",
       "      <td>0.420270</td>\n",
       "    </tr>\n",
       "    <tr>\n",
       "      <th>2</th>\n",
       "      <td>title: Why did the producers of 007 films use ...</td>\n",
       "      <td>1</td>\n",
       "      <td>0.522594</td>\n",
       "    </tr>\n",
       "    <tr>\n",
       "      <th>3</th>\n",
       "      <td>title: I feel so bad for the necrophiliac's si...</td>\n",
       "      <td>1</td>\n",
       "      <td>0.574645</td>\n",
       "    </tr>\n",
       "    <tr>\n",
       "      <th>4</th>\n",
       "      <td>title: What's the difference between you and a...</td>\n",
       "      <td>1</td>\n",
       "      <td>0.596912</td>\n",
       "    </tr>\n",
       "    <tr>\n",
       "      <th>5</th>\n",
       "      <td>title: This guy proposed to his wife after wal...</td>\n",
       "      <td>1</td>\n",
       "      <td>0.667338</td>\n",
       "    </tr>\n",
       "    <tr>\n",
       "      <th>6</th>\n",
       "      <td>title: Roses are red.  body: \\n\\nThe sky is bl...</td>\n",
       "      <td>0</td>\n",
       "      <td>0.462938</td>\n",
       "    </tr>\n",
       "    <tr>\n",
       "      <th>7</th>\n",
       "      <td>title: These reports of a major snowstorm hitt...</td>\n",
       "      <td>1</td>\n",
       "      <td>0.804163</td>\n",
       "    </tr>\n",
       "    <tr>\n",
       "      <th>8</th>\n",
       "      <td>title: Those ads actually ran.  body:  The com...</td>\n",
       "      <td>1</td>\n",
       "      <td>0.704692</td>\n",
       "    </tr>\n",
       "    <tr>\n",
       "      <th>9</th>\n",
       "      <td>title: Burnt my Hawaiian pizza today.  body:  ...</td>\n",
       "      <td>1</td>\n",
       "      <td>0.675886</td>\n",
       "    </tr>\n",
       "    <tr>\n",
       "      <th>10</th>\n",
       "      <td>title: I hate how you cant even say black pain...</td>\n",
       "      <td>1</td>\n",
       "      <td>0.629559</td>\n",
       "    </tr>\n",
       "    <tr>\n",
       "      <th>11</th>\n",
       "      <td>title: What's the difference between a Jew in ...</td>\n",
       "      <td>1</td>\n",
       "      <td>0.632949</td>\n",
       "    </tr>\n",
       "    <tr>\n",
       "      <th>12</th>\n",
       "      <td>title: I recently went to America....  body: \\...</td>\n",
       "      <td>1</td>\n",
       "      <td>0.546037</td>\n",
       "    </tr>\n",
       "    <tr>\n",
       "      <th>13</th>\n",
       "      <td>title: Brian raises his hand and says, “He’s i...</td>\n",
       "      <td>1</td>\n",
       "      <td>0.565227</td>\n",
       "    </tr>\n",
       "    <tr>\n",
       "      <th>14</th>\n",
       "      <td>title: You hear about the University book stor...</td>\n",
       "      <td>1</td>\n",
       "      <td>0.619345</td>\n",
       "    </tr>\n",
       "    <tr>\n",
       "      <th>15</th>\n",
       "      <td>title: Why is it unknown on how pterodactyls u...</td>\n",
       "      <td>0</td>\n",
       "      <td>0.401812</td>\n",
       "    </tr>\n",
       "    <tr>\n",
       "      <th>16</th>\n",
       "      <td>title: Why women need legs?  body:  How is tha...</td>\n",
       "      <td>1</td>\n",
       "      <td>0.581799</td>\n",
       "    </tr>\n",
       "    <tr>\n",
       "      <th>17</th>\n",
       "      <td>title: I walked into a PETA adoption center an...</td>\n",
       "      <td>1</td>\n",
       "      <td>0.677047</td>\n",
       "    </tr>\n",
       "    <tr>\n",
       "      <th>18</th>\n",
       "      <td>title: How did TV studios make words appear on...</td>\n",
       "      <td>1</td>\n",
       "      <td>0.537079</td>\n",
       "    </tr>\n",
       "    <tr>\n",
       "      <th>19</th>\n",
       "      <td>title: How do you find Will Smith in the snow?...</td>\n",
       "      <td>1</td>\n",
       "      <td>0.575034</td>\n",
       "    </tr>\n",
       "    <tr>\n",
       "      <th>20</th>\n",
       "      <td>title: Remember when you were a kid and when y...</td>\n",
       "      <td>1</td>\n",
       "      <td>0.819669</td>\n",
       "    </tr>\n",
       "    <tr>\n",
       "      <th>21</th>\n",
       "      <td>title: Remember, you can't spell Valentine's D...</td>\n",
       "      <td>0</td>\n",
       "      <td>0.472308</td>\n",
       "    </tr>\n",
       "    <tr>\n",
       "      <th>22</th>\n",
       "      <td>title: Happy try not to jump off a bridge day!...</td>\n",
       "      <td>0</td>\n",
       "      <td>0.445741</td>\n",
       "    </tr>\n",
       "    <tr>\n",
       "      <th>23</th>\n",
       "      <td>title: My boss said to me, \"you're the worst t...</td>\n",
       "      <td>1</td>\n",
       "      <td>0.791415</td>\n",
       "    </tr>\n",
       "    <tr>\n",
       "      <th>24</th>\n",
       "      <td>title: If I get a bird I'm naming it Trump  bo...</td>\n",
       "      <td>0</td>\n",
       "      <td>0.476741</td>\n",
       "    </tr>\n",
       "    <tr>\n",
       "      <th>25</th>\n",
       "      <td>title: I was going to get a headjob for Valent...</td>\n",
       "      <td>1</td>\n",
       "      <td>0.587808</td>\n",
       "    </tr>\n",
       "    <tr>\n",
       "      <th>26</th>\n",
       "      <td>title: A mother went into a coma after giving ...</td>\n",
       "      <td>0</td>\n",
       "      <td>0.484793</td>\n",
       "    </tr>\n",
       "    <tr>\n",
       "      <th>27</th>\n",
       "      <td>title: What do you call an exercise machine wi...</td>\n",
       "      <td>1</td>\n",
       "      <td>0.545487</td>\n",
       "    </tr>\n",
       "    <tr>\n",
       "      <th>28</th>\n",
       "      <td>title: My dad has a heart of a lion  body: !\"\\...</td>\n",
       "      <td>1</td>\n",
       "      <td>0.713820</td>\n",
       "    </tr>\n",
       "    <tr>\n",
       "      <th>29</th>\n",
       "      <td>title: Smaller babies may be delivered by a st...</td>\n",
       "      <td>0</td>\n",
       "      <td>0.497024</td>\n",
       "    </tr>\n",
       "    <tr>\n",
       "      <th>...</th>\n",
       "      <td>...</td>\n",
       "      <td>...</td>\n",
       "      <td>...</td>\n",
       "    </tr>\n",
       "    <tr>\n",
       "      <th>70</th>\n",
       "      <td>title: Relationships are a lot like algebra.  ...</td>\n",
       "      <td>0</td>\n",
       "      <td>0.467613</td>\n",
       "    </tr>\n",
       "    <tr>\n",
       "      <th>71</th>\n",
       "      <td>title: If Harry Potter were about pirates:  bo...</td>\n",
       "      <td>0</td>\n",
       "      <td>0.469922</td>\n",
       "    </tr>\n",
       "    <tr>\n",
       "      <th>72</th>\n",
       "      <td>title: US Politics are  body: \\n\\nHateful.\\n\\n...</td>\n",
       "      <td>1</td>\n",
       "      <td>0.539188</td>\n",
       "    </tr>\n",
       "    <tr>\n",
       "      <th>73</th>\n",
       "      <td>title: What's a ninjas favorite drink?  body: ...</td>\n",
       "      <td>1</td>\n",
       "      <td>0.508794</td>\n",
       "    </tr>\n",
       "    <tr>\n",
       "      <th>74</th>\n",
       "      <td>title: I used to hate the ballet  body: !\"</td>\n",
       "      <td>1</td>\n",
       "      <td>0.530511</td>\n",
       "    </tr>\n",
       "    <tr>\n",
       "      <th>75</th>\n",
       "      <td>title: Life is like a diploma  body: \\n and th...</td>\n",
       "      <td>1</td>\n",
       "      <td>0.502509</td>\n",
       "    </tr>\n",
       "    <tr>\n",
       "      <th>76</th>\n",
       "      <td>title:  How do you encourage a bear to eat che...</td>\n",
       "      <td>1</td>\n",
       "      <td>0.514764</td>\n",
       "    </tr>\n",
       "    <tr>\n",
       "      <th>77</th>\n",
       "      <td>title: Why was the orchestra teacher angry?  b...</td>\n",
       "      <td>0</td>\n",
       "      <td>0.495409</td>\n",
       "    </tr>\n",
       "    <tr>\n",
       "      <th>78</th>\n",
       "      <td>title: A fat man is watching television  body:...</td>\n",
       "      <td>1</td>\n",
       "      <td>0.783686</td>\n",
       "    </tr>\n",
       "    <tr>\n",
       "      <th>79</th>\n",
       "      <td>title: In the beginning, God created the dog. ...</td>\n",
       "      <td>1</td>\n",
       "      <td>0.780657</td>\n",
       "    </tr>\n",
       "    <tr>\n",
       "      <th>80</th>\n",
       "      <td>title: What's the quickest way to get in touch...</td>\n",
       "      <td>0</td>\n",
       "      <td>0.468939</td>\n",
       "    </tr>\n",
       "    <tr>\n",
       "      <th>81</th>\n",
       "      <td>title: What do you get when you combine Richar...</td>\n",
       "      <td>0</td>\n",
       "      <td>0.449910</td>\n",
       "    </tr>\n",
       "    <tr>\n",
       "      <th>82</th>\n",
       "      <td>title: A marketing executive walks into a bar ...</td>\n",
       "      <td>1</td>\n",
       "      <td>0.592733</td>\n",
       "    </tr>\n",
       "    <tr>\n",
       "      <th>83</th>\n",
       "      <td>title: What do you call the presidential toile...</td>\n",
       "      <td>0</td>\n",
       "      <td>0.405858</td>\n",
       "    </tr>\n",
       "    <tr>\n",
       "      <th>84</th>\n",
       "      <td>title: Why is Tumblr bad for you?  body: \\n\\n\\...</td>\n",
       "      <td>0</td>\n",
       "      <td>0.425254</td>\n",
       "    </tr>\n",
       "    <tr>\n",
       "      <th>85</th>\n",
       "      <td>title: What is the shittiest part of Object Or...</td>\n",
       "      <td>0</td>\n",
       "      <td>0.494246</td>\n",
       "    </tr>\n",
       "    <tr>\n",
       "      <th>86</th>\n",
       "      <td>title: Dad Joke  body: \\n\\nWhen you go to the ...</td>\n",
       "      <td>1</td>\n",
       "      <td>0.612368</td>\n",
       "    </tr>\n",
       "    <tr>\n",
       "      <th>87</th>\n",
       "      <td>title: I love open-minded people.  body:  I lo...</td>\n",
       "      <td>0</td>\n",
       "      <td>0.481364</td>\n",
       "    </tr>\n",
       "    <tr>\n",
       "      <th>88</th>\n",
       "      <td>title: Who came first. The chicken or the egg ...</td>\n",
       "      <td>1</td>\n",
       "      <td>0.837982</td>\n",
       "    </tr>\n",
       "    <tr>\n",
       "      <th>89</th>\n",
       "      <td>title: Where do you find a dog with no legs?  ...</td>\n",
       "      <td>0</td>\n",
       "      <td>0.457327</td>\n",
       "    </tr>\n",
       "    <tr>\n",
       "      <th>90</th>\n",
       "      <td>title: What's the deal with airline food?  bod...</td>\n",
       "      <td>1</td>\n",
       "      <td>0.588679</td>\n",
       "    </tr>\n",
       "    <tr>\n",
       "      <th>91</th>\n",
       "      <td>title: I like my soda like I like my women  bo...</td>\n",
       "      <td>0</td>\n",
       "      <td>0.430889</td>\n",
       "    </tr>\n",
       "    <tr>\n",
       "      <th>92</th>\n",
       "      <td>title: What is the worst icebreaker?  body:  \\...</td>\n",
       "      <td>1</td>\n",
       "      <td>0.703178</td>\n",
       "    </tr>\n",
       "    <tr>\n",
       "      <th>93</th>\n",
       "      <td>title: What are your thoughts on monorails?  b...</td>\n",
       "      <td>1</td>\n",
       "      <td>0.534433</td>\n",
       "    </tr>\n",
       "    <tr>\n",
       "      <th>94</th>\n",
       "      <td>title: What's a pirate's favorite letter?  bod...</td>\n",
       "      <td>1</td>\n",
       "      <td>0.517968</td>\n",
       "    </tr>\n",
       "    <tr>\n",
       "      <th>95</th>\n",
       "      <td>title: What do you call a rabbit roaming with ...</td>\n",
       "      <td>1</td>\n",
       "      <td>0.539408</td>\n",
       "    </tr>\n",
       "    <tr>\n",
       "      <th>96</th>\n",
       "      <td>title: How do you make a tissue dance?  body: ...</td>\n",
       "      <td>1</td>\n",
       "      <td>0.541788</td>\n",
       "    </tr>\n",
       "    <tr>\n",
       "      <th>97</th>\n",
       "      <td>title: I just got a haircut, but I'm not sure ...</td>\n",
       "      <td>1</td>\n",
       "      <td>0.695886</td>\n",
       "    </tr>\n",
       "    <tr>\n",
       "      <th>98</th>\n",
       "      <td>title: How do you make Holy Water?  body: \\n\\n...</td>\n",
       "      <td>1</td>\n",
       "      <td>0.560577</td>\n",
       "    </tr>\n",
       "    <tr>\n",
       "      <th>99</th>\n",
       "      <td>title: What's the most dangerous animal in the...</td>\n",
       "      <td>1</td>\n",
       "      <td>0.523661</td>\n",
       "    </tr>\n",
       "  </tbody>\n",
       "</table>\n",
       "<p>100 rows × 3 columns</p>\n",
       "</div>"
      ],
      "text/plain": [
       "                                                jokes  is_funny     proba\n",
       "0   title: Why is it so hard to break up with a Ja...         0  0.485252\n",
       "1   title: Why did the chicken cross the road?  bo...         0  0.420270\n",
       "2   title: Why did the producers of 007 films use ...         1  0.522594\n",
       "3   title: I feel so bad for the necrophiliac's si...         1  0.574645\n",
       "4   title: What's the difference between you and a...         1  0.596912\n",
       "5   title: This guy proposed to his wife after wal...         1  0.667338\n",
       "6   title: Roses are red.  body: \\n\\nThe sky is bl...         0  0.462938\n",
       "7   title: These reports of a major snowstorm hitt...         1  0.804163\n",
       "8   title: Those ads actually ran.  body:  The com...         1  0.704692\n",
       "9   title: Burnt my Hawaiian pizza today.  body:  ...         1  0.675886\n",
       "10  title: I hate how you cant even say black pain...         1  0.629559\n",
       "11  title: What's the difference between a Jew in ...         1  0.632949\n",
       "12  title: I recently went to America....  body: \\...         1  0.546037\n",
       "13  title: Brian raises his hand and says, “He’s i...         1  0.565227\n",
       "14  title: You hear about the University book stor...         1  0.619345\n",
       "15  title: Why is it unknown on how pterodactyls u...         0  0.401812\n",
       "16  title: Why women need legs?  body:  How is tha...         1  0.581799\n",
       "17  title: I walked into a PETA adoption center an...         1  0.677047\n",
       "18  title: How did TV studios make words appear on...         1  0.537079\n",
       "19  title: How do you find Will Smith in the snow?...         1  0.575034\n",
       "20  title: Remember when you were a kid and when y...         1  0.819669\n",
       "21  title: Remember, you can't spell Valentine's D...         0  0.472308\n",
       "22  title: Happy try not to jump off a bridge day!...         0  0.445741\n",
       "23  title: My boss said to me, \"you're the worst t...         1  0.791415\n",
       "24  title: If I get a bird I'm naming it Trump  bo...         0  0.476741\n",
       "25  title: I was going to get a headjob for Valent...         1  0.587808\n",
       "26  title: A mother went into a coma after giving ...         0  0.484793\n",
       "27  title: What do you call an exercise machine wi...         1  0.545487\n",
       "28  title: My dad has a heart of a lion  body: !\"\\...         1  0.713820\n",
       "29  title: Smaller babies may be delivered by a st...         0  0.497024\n",
       "..                                                ...       ...       ...\n",
       "70  title: Relationships are a lot like algebra.  ...         0  0.467613\n",
       "71  title: If Harry Potter were about pirates:  bo...         0  0.469922\n",
       "72  title: US Politics are  body: \\n\\nHateful.\\n\\n...         1  0.539188\n",
       "73  title: What's a ninjas favorite drink?  body: ...         1  0.508794\n",
       "74         title: I used to hate the ballet  body: !\"         1  0.530511\n",
       "75  title: Life is like a diploma  body: \\n and th...         1  0.502509\n",
       "76  title:  How do you encourage a bear to eat che...         1  0.514764\n",
       "77  title: Why was the orchestra teacher angry?  b...         0  0.495409\n",
       "78  title: A fat man is watching television  body:...         1  0.783686\n",
       "79  title: In the beginning, God created the dog. ...         1  0.780657\n",
       "80  title: What's the quickest way to get in touch...         0  0.468939\n",
       "81  title: What do you get when you combine Richar...         0  0.449910\n",
       "82  title: A marketing executive walks into a bar ...         1  0.592733\n",
       "83  title: What do you call the presidential toile...         0  0.405858\n",
       "84  title: Why is Tumblr bad for you?  body: \\n\\n\\...         0  0.425254\n",
       "85  title: What is the shittiest part of Object Or...         0  0.494246\n",
       "86  title: Dad Joke  body: \\n\\nWhen you go to the ...         1  0.612368\n",
       "87  title: I love open-minded people.  body:  I lo...         0  0.481364\n",
       "88  title: Who came first. The chicken or the egg ...         1  0.837982\n",
       "89  title: Where do you find a dog with no legs?  ...         0  0.457327\n",
       "90  title: What's the deal with airline food?  bod...         1  0.588679\n",
       "91  title: I like my soda like I like my women  bo...         0  0.430889\n",
       "92  title: What is the worst icebreaker?  body:  \\...         1  0.703178\n",
       "93  title: What are your thoughts on monorails?  b...         1  0.534433\n",
       "94  title: What's a pirate's favorite letter?  bod...         1  0.517968\n",
       "95  title: What do you call a rabbit roaming with ...         1  0.539408\n",
       "96  title: How do you make a tissue dance?  body: ...         1  0.541788\n",
       "97  title: I just got a haircut, but I'm not sure ...         1  0.695886\n",
       "98  title: How do you make Holy Water?  body: \\n\\n...         1  0.560577\n",
       "99  title: What's the most dangerous animal in the...         1  0.523661\n",
       "\n",
       "[100 rows x 3 columns]"
      ]
     },
     "execution_count": 149,
     "metadata": {},
     "output_type": "execute_result"
    }
   ],
   "source": [
    "# output pandas dataframe\n",
    "prediction_result\n"
   ]
  },
  {
   "cell_type": "code",
   "execution_count": 164,
   "metadata": {},
   "outputs": [
    {
     "data": {
      "text/plain": [
       "0.74"
      ]
     },
     "execution_count": 164,
     "metadata": {},
     "output_type": "execute_result"
    }
   ],
   "source": [
    "# humoruous percentage\n",
    "prediction_result.is_funny.value_counts()[1]/len(prediction_result)\n"
   ]
  },
  {
   "cell_type": "code",
   "execution_count": null,
   "metadata": {},
   "outputs": [],
   "source": []
  }
 ],
 "metadata": {
  "kernelspec": {
   "display_name": "Python 3",
   "language": "python",
   "name": "python3"
  },
  "language_info": {
   "codemirror_mode": {
    "name": "ipython",
    "version": 3
   },
   "file_extension": ".py",
   "mimetype": "text/x-python",
   "name": "python",
   "nbconvert_exporter": "python",
   "pygments_lexer": "ipython3",
   "version": "3.7.6"
  }
 },
 "nbformat": 4,
 "nbformat_minor": 2
}
